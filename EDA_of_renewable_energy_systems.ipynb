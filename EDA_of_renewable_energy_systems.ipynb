{
  "metadata": {
    "kernelspec": {
      "language": "python",
      "display_name": "Python 3",
      "name": "python3"
    },
    "language_info": {
      "name": "python",
      "version": "3.10.13",
      "mimetype": "text/x-python",
      "codemirror_mode": {
        "name": "ipython",
        "version": 3
      },
      "pygments_lexer": "ipython3",
      "nbconvert_exporter": "python",
      "file_extension": ".py"
    },
    "kaggle": {
      "accelerator": "none",
      "dataSources": [
        {
          "sourceId": 8446013,
          "sourceType": "datasetVersion",
          "datasetId": 5032721
        }
      ],
      "dockerImageVersionId": 30698,
      "isInternetEnabled": true,
      "language": "python",
      "sourceType": "notebook",
      "isGpuEnabled": false
    },
    "colab": {
      "name": "EDA of renewable energy systems",
      "provenance": [],
      "include_colab_link": true
    }
  },
  "nbformat_minor": 0,
  "nbformat": 4,
  "cells": [
    {
      "cell_type": "markdown",
      "metadata": {
        "id": "view-in-github",
        "colab_type": "text"
      },
      "source": [
        "<a href=\"https://colab.research.google.com/github/jessicayuan1/Insight-Lab/blob/main/EDA_of_renewable_energy_systems.ipynb\" target=\"_parent\"><img src=\"https://colab.research.google.com/assets/colab-badge.svg\" alt=\"Open In Colab\"/></a>"
      ]
    },
    {
      "source": [
        "\n",
        "import kagglehub\n",
        "girumwondemagegn_dataset_for_renewable_energy_systems_path = kagglehub.dataset_download('girumwondemagegn/dataset-for-renewable-energy-systems')\n",
        "\n",
        "print('Data source import complete.')\n"
      ],
      "metadata": {
        "id": "oaA5AypSaBFF"
      },
      "cell_type": "code",
      "outputs": [],
      "execution_count": null
    },
    {
      "cell_type": "code",
      "source": [
        "# This Python 3 environment comes with many helpful analytics libraries installed\n",
        "# It is defined by the kaggle/python Docker image: https://github.com/kaggle/docker-python\n",
        "# For example, here's several helpful packages to load\n",
        "\n",
        "import numpy as np # linear algebra\n",
        "import pandas as pd # data processing, CSV file I/O (e.g. pd.read_csv)\n",
        "\n",
        "# Input data files are available in the read-only \"../input/\" directory\n",
        "# For example, running this (by clicking run or pressing Shift+Enter) will list all files under the input directory\n",
        "\n",
        "import os\n",
        "for dirname, _, filenames in os.walk('/kaggle/input'):\n",
        "    for filename in filenames:\n",
        "        print(os.path.join(dirname, filename))\n",
        "\n",
        "# You can write up to 20GB to the current directory (/kaggle/working/) that gets preserved as output when you create a version using \"Save & Run All\"\n",
        "# You can also write temporary files to /kaggle/temp/, but they won't be saved outside of the current session"
      ],
      "metadata": {
        "_uuid": "8f2839f25d086af736a60e9eeb907d3b93b6e0e5",
        "_cell_guid": "b1076dfc-b9ad-4769-8c92-a6c4dae69d19",
        "execution": {
          "iopub.status.busy": "2024-05-23T08:11:52.895058Z",
          "iopub.execute_input": "2024-05-23T08:11:52.895444Z",
          "iopub.status.idle": "2024-05-23T08:11:54.334448Z",
          "shell.execute_reply.started": "2024-05-23T08:11:52.89541Z",
          "shell.execute_reply": "2024-05-23T08:11:54.333289Z"
        },
        "trusted": true,
        "id": "sZnbOzMQaBFH"
      },
      "outputs": [],
      "execution_count": null
    },
    {
      "cell_type": "code",
      "source": [
        "import pandas as pd\n",
        "import numpy as np\n",
        "import matplotlib.pyplot as plt\n",
        "import seaborn as sns\n",
        "import tensorflow as tf\n",
        "import keras\n",
        "import sklearn\n",
        "import os\n",
        "import re"
      ],
      "metadata": {
        "execution": {
          "iopub.status.busy": "2024-05-23T08:12:35.324647Z",
          "iopub.execute_input": "2024-05-23T08:12:35.325137Z",
          "iopub.status.idle": "2024-05-23T08:12:50.314342Z",
          "shell.execute_reply.started": "2024-05-23T08:12:35.325108Z",
          "shell.execute_reply": "2024-05-23T08:12:50.313131Z"
        },
        "trusted": true,
        "id": "BOjslrowaBFI"
      },
      "outputs": [],
      "execution_count": null
    },
    {
      "cell_type": "code",
      "source": [
        "df = pd.read_csv(\"/kaggle/input/dataset-for-renewable-energy-systems/energy_dataset_.csv\")\n",
        "df.head()"
      ],
      "metadata": {
        "execution": {
          "iopub.status.busy": "2024-05-23T08:13:17.213058Z",
          "iopub.execute_input": "2024-05-23T08:13:17.213398Z",
          "iopub.status.idle": "2024-05-23T08:13:17.285416Z",
          "shell.execute_reply.started": "2024-05-23T08:13:17.213371Z",
          "shell.execute_reply": "2024-05-23T08:13:17.284536Z"
        },
        "trusted": true,
        "id": "q0XNbepOaBFI"
      },
      "outputs": [],
      "execution_count": null
    },
    {
      "cell_type": "code",
      "source": [
        "# 检查每列的缺失值情况\n",
        "missing_values = df.isnull().sum()\n",
        "print(missing_values)\n"
      ],
      "metadata": {
        "execution": {
          "iopub.status.busy": "2024-05-23T08:14:56.075778Z",
          "iopub.execute_input": "2024-05-23T08:14:56.076174Z",
          "iopub.status.idle": "2024-05-23T08:14:56.088145Z",
          "shell.execute_reply.started": "2024-05-23T08:14:56.076147Z",
          "shell.execute_reply": "2024-05-23T08:14:56.08685Z"
        },
        "trusted": true,
        "id": "Hia3jAlAaBFI"
      },
      "outputs": [],
      "execution_count": null
    },
    {
      "cell_type": "code",
      "source": [
        "# 设置图形的风格\n",
        "sns.set(style=\"whitegrid\")"
      ],
      "metadata": {
        "execution": {
          "iopub.status.busy": "2024-05-23T08:19:30.007067Z",
          "iopub.execute_input": "2024-05-23T08:19:30.007491Z",
          "iopub.status.idle": "2024-05-23T08:19:30.013807Z",
          "shell.execute_reply.started": "2024-05-23T08:19:30.007461Z",
          "shell.execute_reply": "2024-05-23T08:19:30.01262Z"
        },
        "trusted": true,
        "id": "0V9V6DJfaBFJ"
      },
      "outputs": [],
      "execution_count": null
    },
    {
      "cell_type": "markdown",
      "source": [
        "## Installed Capacity of Different Types of Renewable Energy"
      ],
      "metadata": {
        "id": "RqzgBmVZaBFJ"
      }
    },
    {
      "cell_type": "code",
      "source": [
        "plt.figure(figsize=(10, 6))\n",
        "sns.barplot(x='Type_of_Renewable_Energy', y='Installed_Capacity_MW', data=df, ci=None, palette='viridis')\n",
        "plt.title('Installed Capacity of Different Types of Renewable Energy')\n",
        "plt.xlabel('Type of Renewable Energy')\n",
        "plt.ylabel('Installed Capacity (MW)')\n",
        "plt.xticks(ticks=[0, 1, 2, 3, 4, 5, 6], labels=['Solar', 'Wind', 'Hydroelectric', 'Geothermal', 'Biomass', 'Tidal', 'Wave'])\n",
        "plt.show()\n"
      ],
      "metadata": {
        "execution": {
          "iopub.status.busy": "2024-05-23T08:19:40.085725Z",
          "iopub.execute_input": "2024-05-23T08:19:40.086153Z",
          "iopub.status.idle": "2024-05-23T08:19:40.477878Z",
          "shell.execute_reply.started": "2024-05-23T08:19:40.086123Z",
          "shell.execute_reply": "2024-05-23T08:19:40.476629Z"
        },
        "trusted": true,
        "id": "6ucbbAchaBFK"
      },
      "outputs": [],
      "execution_count": null
    },
    {
      "cell_type": "markdown",
      "source": [
        "The installed capacity for different types of renewable energy sources (Solar, Wind, Hydroelectric, Geothermal, Biomass, Tidal, Wave) appears to be relatively similar, with each type having an installed capacity around 500 MW. There is no single dominant energy source in terms of installed capacity."
      ],
      "metadata": {
        "id": "oVB1ApUgaBFK"
      }
    },
    {
      "cell_type": "markdown",
      "source": [
        "## Energy Production vs. Consumption"
      ],
      "metadata": {
        "id": "WXJYtXecaBFK"
      }
    },
    {
      "cell_type": "code",
      "source": [
        "plt.figure(figsize=(10, 6))\n",
        "sns.scatterplot(x='Energy_Production_MWh', y='Energy_Consumption_MWh', hue='Type_of_Renewable_Energy', palette='viridis', data=df)\n",
        "plt.title('Energy Production vs. Consumption')\n",
        "plt.xlabel('Energy Production (MWh)')\n",
        "plt.ylabel('Energy Consumption (MWh)')\n",
        "plt.legend(title='Type of Renewable Energy', labels=['Solar', 'Wind', 'Hydroelectric', 'Geothermal', 'Biomass', 'Tidal', 'Wave'])\n",
        "plt.show()\n"
      ],
      "metadata": {
        "execution": {
          "iopub.status.busy": "2024-05-23T08:19:55.09414Z",
          "iopub.execute_input": "2024-05-23T08:19:55.094545Z",
          "iopub.status.idle": "2024-05-23T08:19:58.007097Z",
          "shell.execute_reply.started": "2024-05-23T08:19:55.094516Z",
          "shell.execute_reply": "2024-05-23T08:19:58.005748Z"
        },
        "trusted": true,
        "id": "Q5xWF6GbaBFK"
      },
      "outputs": [],
      "execution_count": null
    },
    {
      "cell_type": "markdown",
      "source": [
        "The scatter plot shows a very dense and widespread distribution of points. This indicates a significant variation in energy production and consumption values among the different renewable energy sources. There is no clear trend or linear relationship between energy production and consumption for the different types of renewable energy, suggesting that production and consumption are not directly correlated in this dataset."
      ],
      "metadata": {
        "id": "VsU_8K6taBFK"
      }
    },
    {
      "cell_type": "markdown",
      "source": [
        "## Storage Efficiency of Different Types of Renewable Energy"
      ],
      "metadata": {
        "id": "PJQJ_hbJaBFL"
      }
    },
    {
      "cell_type": "code",
      "source": [
        "plt.figure(figsize=(10, 6))\n",
        "sns.boxplot(x='Type_of_Renewable_Energy', y='Storage_Efficiency_Percentage', data=df, palette='viridis')\n",
        "plt.title('Storage Efficiency of Different Types of Renewable Energy')\n",
        "plt.xlabel('Type of Renewable Energy')\n",
        "plt.ylabel('Storage Efficiency (%)')\n",
        "plt.xticks(ticks=[0, 1, 2, 3, 4, 5, 6], labels=['Solar', 'Wind', 'Hydroelectric', 'Geothermal', 'Biomass', 'Tidal', 'Wave'])\n",
        "plt.show()\n"
      ],
      "metadata": {
        "execution": {
          "iopub.status.busy": "2024-05-23T08:20:05.294515Z",
          "iopub.execute_input": "2024-05-23T08:20:05.295153Z",
          "iopub.status.idle": "2024-05-23T08:20:05.730593Z",
          "shell.execute_reply.started": "2024-05-23T08:20:05.295122Z",
          "shell.execute_reply": "2024-05-23T08:20:05.729291Z"
        },
        "trusted": true,
        "id": "uRg-etwJaBFL"
      },
      "outputs": [],
      "execution_count": null
    },
    {
      "cell_type": "markdown",
      "source": [
        "The box plot reveals that storage efficiency percentages for different types of renewable energy are relatively consistent, mostly falling between 60% and 90%. Solar energy has a slightly lower median storage efficiency compared to the others, while Tidal and Wave energy show a broader range of efficiency."
      ],
      "metadata": {
        "id": "7tnHw5i-aBFL"
      }
    },
    {
      "cell_type": "markdown",
      "source": [
        "## Initial Investment vs. GHG Emission Reduction"
      ],
      "metadata": {
        "id": "cNTjbOtgaBFL"
      }
    },
    {
      "cell_type": "code",
      "source": [
        "plt.figure(figsize=(10, 6))\n",
        "sns.scatterplot(x='Initial_Investment_USD', y='GHG_Emission_Reduction_tCO2e', hue='Type_of_Renewable_Energy', palette='viridis', data=df)\n",
        "plt.title('Initial Investment vs. GHG Emission Reduction')\n",
        "plt.xlabel('Initial Investment (USD)')\n",
        "plt.ylabel('GHG Emission Reduction (tCO2e)')\n",
        "plt.legend(title='Type of Renewable Energy', labels=['Solar', 'Wind', 'Hydroelectric', 'Geothermal', 'Biomass', 'Tidal', 'Wave'])\n",
        "plt.show()\n"
      ],
      "metadata": {
        "execution": {
          "iopub.status.busy": "2024-05-23T08:20:15.265409Z",
          "iopub.execute_input": "2024-05-23T08:20:15.265818Z",
          "iopub.status.idle": "2024-05-23T08:20:17.735731Z",
          "shell.execute_reply.started": "2024-05-23T08:20:15.265786Z",
          "shell.execute_reply": "2024-05-23T08:20:17.734702Z"
        },
        "trusted": true,
        "id": "ev0HQrgCaBFL"
      },
      "outputs": [],
      "execution_count": null
    },
    {
      "cell_type": "markdown",
      "source": [
        "The scatter plot shows a broad distribution of data points, indicating that there is a wide range of initial investment and corresponding greenhouse gas (GHG) emission reductions across the different types of renewable energy. There is no clear pattern or trend that suggests a direct relationship between the amount of initial investment and the reduction in GHG emissions."
      ],
      "metadata": {
        "id": "H4KgjZA0aBFL"
      }
    },
    {
      "cell_type": "markdown",
      "source": [
        "## Number of Jobs Created by Different Types of Renewable Energy"
      ],
      "metadata": {
        "id": "rkZbCz-WaBFL"
      }
    },
    {
      "cell_type": "code",
      "source": [
        "plt.figure(figsize=(10, 6))\n",
        "sns.barplot(x='Type_of_Renewable_Energy', y='Jobs_Created', data=df, ci=None, palette='viridis')\n",
        "plt.title('Number of Jobs Created by Different Types of Renewable Energy')\n",
        "plt.xlabel('Type of Renewable Energy')\n",
        "plt.ylabel('Number of Jobs Created')\n",
        "plt.xticks(ticks=[0, 1, 2, 3, 4, 5, 6], labels=['Solar', 'Wind', 'Hydroelectric', 'Geothermal', 'Biomass', 'Tidal', 'Wave'])\n",
        "plt.show()\n"
      ],
      "metadata": {
        "execution": {
          "iopub.status.busy": "2024-05-23T08:20:24.013153Z",
          "iopub.execute_input": "2024-05-23T08:20:24.013572Z",
          "iopub.status.idle": "2024-05-23T08:20:24.40134Z",
          "shell.execute_reply.started": "2024-05-23T08:20:24.013541Z",
          "shell.execute_reply": "2024-05-23T08:20:24.400248Z"
        },
        "trusted": true,
        "id": "zqZUBc4maBFL"
      },
      "outputs": [],
      "execution_count": null
    },
    {
      "cell_type": "markdown",
      "source": [
        "The bar plot indicates that the number of jobs created by different types of renewable energy is relatively similar, with each type creating around 2500 jobs. This suggests that renewable energy projects, regardless of the type, tend to have a similar impact on job creation"
      ],
      "metadata": {
        "id": "PTOi8_99aBFL"
      }
    },
    {
      "cell_type": "markdown",
      "source": [
        "# Further Analysis"
      ],
      "metadata": {
        "id": "T7tdIK30aBFL"
      }
    },
    {
      "cell_type": "markdown",
      "source": [
        "## 1. Correlation Analysis"
      ],
      "metadata": {
        "id": "2C7a5lOvaBFM"
      }
    },
    {
      "cell_type": "code",
      "source": [
        "# Calculate the correlation matrix\n",
        "correlation_matrix = df.corr()\n",
        "\n",
        "# Plot the correlation matrix\n",
        "plt.figure(figsize=(15, 6))\n",
        "sns.heatmap(correlation_matrix, annot=True, cmap='coolwarm', linewidths=0.5)\n",
        "plt.title('Correlation Matrix')\n",
        "plt.show()"
      ],
      "metadata": {
        "execution": {
          "iopub.status.busy": "2024-05-23T08:40:02.165991Z",
          "iopub.execute_input": "2024-05-23T08:40:02.166403Z",
          "iopub.status.idle": "2024-05-23T08:40:03.239559Z",
          "shell.execute_reply.started": "2024-05-23T08:40:02.166374Z",
          "shell.execute_reply": "2024-05-23T08:40:03.238201Z"
        },
        "trusted": true,
        "id": "YYAIHwqxaBFM"
      },
      "outputs": [],
      "execution_count": null
    },
    {
      "cell_type": "markdown",
      "source": [
        "The correlation matrix shows that most variables have very weak correlations with each other. This indicates that the dataset's features are largely independent.\n",
        "\n",
        "**Notable Correlations:**\n",
        "1. There is a slight positive correlation between Installed_Capacity_MW and GHG_Emission_Reduction_tCO2e.\n",
        "2. Initial_Investment_USD has a very weak positive correlation with Energy_Production_MWh.\n",
        "3. Financial_Incentives_USD has a very weak positive correlation with GHG_Emission_Reduction_tCO2e."
      ],
      "metadata": {
        "id": "tp_scz-YaBFM"
      }
    },
    {
      "cell_type": "markdown",
      "source": [
        "## 2. Detailed Breakdown by Energy Type"
      ],
      "metadata": {
        "id": "bYv7flOaaBFM"
      }
    },
    {
      "cell_type": "code",
      "source": [
        "# Group by type of renewable energy and calculate mean values\n",
        "grouped_df = df.groupby('Type_of_Renewable_Energy').mean().reset_index()\n",
        "\n",
        "# Plot installed capacity, energy production, and energy consumption\n",
        "plt.figure(figsize=(15, 5))\n",
        "\n",
        "plt.subplot(1, 3, 1)\n",
        "sns.barplot(x='Type_of_Renewable_Energy', y='Installed_Capacity_MW', data=grouped_df, palette='viridis')\n",
        "plt.title('Installed Capacity by Type')\n",
        "plt.xlabel('Type of Renewable Energy')\n",
        "plt.ylabel('Installed Capacity (MW)')\n",
        "plt.xticks(ticks=range(7), labels=['Solar', 'Wind', 'Hydroelectric', 'Geothermal', 'Biomass', 'Tidal', 'Wave'])\n",
        "\n",
        "plt.subplot(1, 3, 2)\n",
        "sns.barplot(x='Type_of_Renewable_Energy', y='Energy_Production_MWh', data=grouped_df, palette='viridis')\n",
        "plt.title('Energy Production by Type')\n",
        "plt.xlabel('Type of Renewable Energy')\n",
        "plt.ylabel('Energy Production (MWh)')\n",
        "plt.xticks(ticks=range(7), labels=['Solar', 'Wind', 'Hydroelectric', 'Geothermal', 'Biomass', 'Tidal', 'Wave'])\n",
        "\n",
        "plt.subplot(1, 3, 3)\n",
        "sns.barplot(x='Type_of_Renewable_Energy', y='Energy_Consumption_MWh', data=grouped_df, palette='viridis')\n",
        "plt.title('Energy Consumption by Type')\n",
        "plt.xlabel('Type of Renewable Energy')\n",
        "plt.ylabel('Energy Consumption (MWh)')\n",
        "plt.xticks(ticks=range(7), labels=['Solar', 'Wind', 'Hydroelectric', 'Geothermal', 'Biomass', 'Tidal', 'Wave'])\n",
        "\n",
        "plt.tight_layout()\n",
        "plt.show()\n"
      ],
      "metadata": {
        "execution": {
          "iopub.status.busy": "2024-05-23T08:27:15.925461Z",
          "iopub.execute_input": "2024-05-23T08:27:15.925955Z",
          "iopub.status.idle": "2024-05-23T08:27:16.930045Z",
          "shell.execute_reply.started": "2024-05-23T08:27:15.925918Z",
          "shell.execute_reply": "2024-05-23T08:27:16.928892Z"
        },
        "trusted": true,
        "id": "XHJIZBx_aBFM"
      },
      "outputs": [],
      "execution_count": null
    },
    {
      "cell_type": "markdown",
      "source": [
        "The installed capacity, energy production, and energy consumption are relatively consistent across different types of renewable energy. This uniformity suggests a balanced distribution in the dataset.\n",
        "\n",
        "1. Installed Capacity: Hydroelectric seems to have the highest average installed capacity.\n",
        "2. Energy Production: All types of renewable energy have similar levels of energy production.\n",
        "3. Energy Consumption: Similarly, the energy consumption levels are also quite uniform across different renewable energy types."
      ],
      "metadata": {
        "id": "QARscFhFaBFM"
      }
    },
    {
      "cell_type": "markdown",
      "source": [
        "## 3. Efficiency Improvement Opportunities"
      ],
      "metadata": {
        "id": "epy81-ubaBFM"
      }
    },
    {
      "cell_type": "markdown",
      "source": [],
      "metadata": {
        "id": "vS-Dq2WQaBFM"
      }
    },
    {
      "cell_type": "code",
      "source": [
        "# Group by type of renewable energy and calculate summary statistics for storage efficiency\n",
        "efficiency_summary = df.groupby('Type_of_Renewable_Energy')['Storage_Efficiency_Percentage'].describe()\n",
        "\n",
        "print(efficiency_summary)\n",
        "\n",
        "# Plot storage efficiency distributions\n",
        "plt.figure(figsize=(10, 6))\n",
        "sns.boxplot(x='Type_of_Renewable_Energy', y='Storage_Efficiency_Percentage', data=df, palette='viridis')\n",
        "plt.title('Storage Efficiency by Type of Renewable Energy')\n",
        "plt.xlabel('Type of Renewable Energy')\n",
        "plt.ylabel('Storage Efficiency (%)')\n",
        "plt.xticks(ticks=range(7), labels=['Solar', 'Wind', 'Hydroelectric', 'Geothermal', 'Biomass', 'Tidal', 'Wave'])\n",
        "plt.show()\n"
      ],
      "metadata": {
        "execution": {
          "iopub.status.busy": "2024-05-23T08:37:39.190574Z",
          "iopub.execute_input": "2024-05-23T08:37:39.191112Z",
          "iopub.status.idle": "2024-05-23T08:37:39.660408Z",
          "shell.execute_reply.started": "2024-05-23T08:37:39.191073Z",
          "shell.execute_reply": "2024-05-23T08:37:39.659079Z"
        },
        "trusted": true,
        "id": "EjHKJrmoaBFM"
      },
      "outputs": [],
      "execution_count": null
    },
    {
      "cell_type": "markdown",
      "source": [
        "The boxplot shows that storage efficiency percentages for different types of renewable energy sources have a broad range, generally between 60% and 90%.\n",
        "1. Median Efficiency: All types of renewable energy have a median storage efficiency around 75% to 85%.\n",
        "2. Variability: Solar and Tidal energy types show slightly more variability in storage efficiency."
      ],
      "metadata": {
        "id": "u0vThBbJaBFM"
      }
    },
    {
      "cell_type": "markdown",
      "source": [
        "## 4. Additional Analysis: Financial Metrics\n"
      ],
      "metadata": {
        "id": "nTJ4VuyaaBFM"
      }
    },
    {
      "cell_type": "code",
      "source": [
        "plt.figure(figsize=(15, 5))\n",
        "\n",
        "plt.subplot(1, 2, 1)\n",
        "sns.barplot(x='Type_of_Renewable_Energy', y='Initial_Investment_USD', data=grouped_df, palette='viridis')\n",
        "plt.title('Initial Investment by Type')\n",
        "plt.xlabel('Type of Renewable Energy')\n",
        "plt.ylabel('Initial Investment (USD)')\n",
        "plt.xticks(ticks=range(7), labels=['Solar', 'Wind', 'Hydroelectric', 'Geothermal', 'Biomass', 'Tidal', 'Wave'])\n",
        "\n",
        "plt.subplot(1, 2, 2)\n",
        "sns.barplot(x='Type_of_Renewable_Energy', y='Financial_Incentives_USD', data=grouped_df, palette='viridis')\n",
        "plt.title('Financial Incentives by Type')\n",
        "plt.xlabel('Type of Renewable Energy')\n",
        "plt.ylabel('Financial Incentives (USD)')\n",
        "plt.xticks(ticks=range(7), labels=['Solar', 'Wind', 'Hydroelectric', 'Geothermal', 'Biomass', 'Tidal', 'Wave'])\n",
        "\n",
        "plt.tight_layout()\n",
        "plt.show()\n"
      ],
      "metadata": {
        "execution": {
          "iopub.status.busy": "2024-05-23T08:36:03.802601Z",
          "iopub.execute_input": "2024-05-23T08:36:03.80303Z",
          "iopub.status.idle": "2024-05-23T08:36:04.681563Z",
          "shell.execute_reply.started": "2024-05-23T08:36:03.803Z",
          "shell.execute_reply": "2024-05-23T08:36:04.680144Z"
        },
        "trusted": true,
        "id": "sFjnN_AbaBFM"
      },
      "outputs": [],
      "execution_count": null
    },
    {
      "cell_type": "markdown",
      "source": [
        "Initial investment and financial incentives are quite similar across different types of renewable energy.\n",
        "1. Initial Investment: The investment required for each type of renewable energy does not vary significantly, with all types requiring roughly similar amounts of initial investment.\n",
        "2. Financial Incentives: The financial incentives are also similar across the board, indicating a uniform approach to incentivizing various types of renewable energy."
      ],
      "metadata": {
        "id": "8-UcM8NSaBFM"
      }
    },
    {
      "cell_type": "markdown",
      "source": [
        "## 5. Emission Reduction and Jobs Created"
      ],
      "metadata": {
        "id": "sdyHWaGqaBFM"
      }
    },
    {
      "cell_type": "code",
      "source": [
        "plt.figure(figsize=(15, 5))\n",
        "\n",
        "plt.subplot(1, 2, 1)\n",
        "sns.barplot(x='Type_of_Renewable_Energy', y='GHG_Emission_Reduction_tCO2e', data=grouped_df, palette='viridis')\n",
        "plt.title('GHG Emission Reduction by Type')\n",
        "plt.xlabel('Type of Renewable Energy')\n",
        "plt.ylabel('GHG Emission Reduction (tCO2e)')\n",
        "plt.xticks(ticks=range(7), labels=['Solar', 'Wind', 'Hydroelectric', 'Geothermal', 'Biomass', 'Tidal', 'Wave'])\n",
        "\n",
        "plt.subplot(1, 2, 2)\n",
        "sns.barplot(x='Type_of_Renewable_Energy', y='Jobs_Created', data=grouped_df, palette='viridis')\n",
        "plt.title('Jobs Created by Type')\n",
        "plt.xlabel('Type of Renewable Energy')\n",
        "plt.ylabel('Number of Jobs Created')\n",
        "plt.xticks(ticks=range(7), labels=['Solar', 'Wind', 'Hydroelectric', 'Geothermal', 'Biomass', 'Tidal', 'Wave'])\n",
        "\n",
        "plt.tight_layout()\n",
        "plt.show()\n"
      ],
      "metadata": {
        "execution": {
          "iopub.status.busy": "2024-05-23T08:37:55.76165Z",
          "iopub.execute_input": "2024-05-23T08:37:55.762059Z",
          "iopub.status.idle": "2024-05-23T08:37:56.581054Z",
          "shell.execute_reply.started": "2024-05-23T08:37:55.76203Z",
          "shell.execute_reply": "2024-05-23T08:37:56.579905Z"
        },
        "trusted": true,
        "id": "4pmc_Ax_aBFN"
      },
      "outputs": [],
      "execution_count": null
    },
    {
      "cell_type": "markdown",
      "source": [
        "Both GHG emission reduction and the number of jobs created are relatively consistent across different types of renewable energy.\n",
        "1. GHG Emission Reduction: The reduction in greenhouse gas emissions is quite uniform, with each type contributing similarly.\n",
        "2. Jobs Created: The number of jobs created by each type of renewable energy is also quite similar, suggesting that renewable energy projects generally create comparable employment opportunities regardless of the type."
      ],
      "metadata": {
        "id": "Ma_rYn9paBFN"
      }
    },
    {
      "cell_type": "markdown",
      "source": [
        "# Conclusion\n",
        "The dataset appears to be quite balanced in terms of the installed capacity, energy production, energy consumption, storage efficiency, financial aspects, emission reductions, and job creation across different types of renewable energy. There are no strong correlations between most of the variables, indicating that each feature has a unique contribution to the dataset."
      ],
      "metadata": {
        "id": "LwVIDMOSaBFN"
      }
    }
  ]
}