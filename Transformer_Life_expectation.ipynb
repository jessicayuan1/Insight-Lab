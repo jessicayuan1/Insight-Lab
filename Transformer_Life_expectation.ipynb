{
  "metadata": {
    "kernelspec": {
      "name": "python3",
      "display_name": "Python 3",
      "language": "python"
    },
    "language_info": {
      "name": "python",
      "version": "3.10.12",
      "mimetype": "text/x-python",
      "codemirror_mode": {
        "name": "ipython",
        "version": 3
      },
      "pygments_lexer": "ipython3",
      "nbconvert_exporter": "python",
      "file_extension": ".py"
    },
    "hide_input": false,
    "toc": {
      "base_numbering": 1,
      "nav_menu": {},
      "number_sections": true,
      "sideBar": true,
      "skip_h1_title": false,
      "title_cell": "Table of Contents",
      "title_sidebar": "Contents",
      "toc_cell": false,
      "toc_position": {},
      "toc_section_display": true,
      "toc_window_display": false
    },
    "kaggle": {
      "accelerator": "none",
      "dataSources": [
        {
          "sourceId": 2415533,
          "sourceType": "datasetVersion",
          "datasetId": 1461399
        }
      ],
      "dockerImageVersionId": 30527,
      "isInternetEnabled": true,
      "language": "python",
      "sourceType": "notebook",
      "isGpuEnabled": false
    },
    "colab": {
      "name": "Transformer Life expectation",
      "provenance": [],
      "include_colab_link": true
    }
  },
  "nbformat_minor": 0,
  "nbformat": 4,
  "cells": [
    {
      "cell_type": "markdown",
      "metadata": {
        "id": "view-in-github",
        "colab_type": "text"
      },
      "source": [
        "<a href=\"https://colab.research.google.com/github/jessicayuan1/Insight-Lab/blob/main/Transformer_Life_expectation.ipynb\" target=\"_parent\"><img src=\"https://colab.research.google.com/assets/colab-badge.svg\" alt=\"Open In Colab\"/></a>"
      ]
    },
    {
      "source": [
        "\n",
        "import kagglehub\n",
        "shashwatwork_failure_analysis_in_power_transformers_dataset_path = kagglehub.dataset_download('shashwatwork/failure-analysis-in-power-transformers-dataset')\n",
        "\n",
        "print('Data source import complete.')\n"
      ],
      "metadata": {
        "id": "txXpDG5TaXdu"
      },
      "cell_type": "code",
      "outputs": [],
      "execution_count": null
    },
    {
      "cell_type": "markdown",
      "source": [
        "<div style=\"padding:20px;\n",
        "            color:#150d0a;\n",
        "            margin:10px;\n",
        "            font-size:220%;\n",
        "            text-align:center;\n",
        "            display:fill;\n",
        "            border-radius:20px;\n",
        "            border-width: 5px;\n",
        "            border-style: solid;\n",
        "            border-color: #150d0a;\n",
        "            background-color:#eca912;\n",
        "            overflow:hidden;\n",
        "            font-weight:500\">Transformer Life expectation Prediction</div>"
      ],
      "metadata": {
        "id": "zQigouCKaXdx"
      }
    },
    {
      "cell_type": "code",
      "source": [
        "import pandas as pd\n",
        "import numpy as np\n",
        "import seaborn as sns\n",
        "import matplotlib.pyplot as plt\n",
        "%matplotlib inline\n",
        "\n",
        "import warnings\n",
        "warnings.filterwarnings(\"ignore\")"
      ],
      "metadata": {
        "execution": {
          "iopub.status.busy": "2023-08-09T03:35:12.913245Z",
          "iopub.execute_input": "2023-08-09T03:35:12.913785Z",
          "iopub.status.idle": "2023-08-09T03:35:12.922197Z",
          "shell.execute_reply.started": "2023-08-09T03:35:12.913746Z",
          "shell.execute_reply": "2023-08-09T03:35:12.920855Z"
        },
        "trusted": true,
        "id": "lawkv6XbaXdy"
      },
      "outputs": [],
      "execution_count": null
    },
    {
      "cell_type": "code",
      "source": [
        "df=pd.read_csv(\"/kaggle/input/failure-analysis-in-power-transformers-dataset/Health index1.csv\")\n",
        "df.head()"
      ],
      "metadata": {
        "execution": {
          "iopub.status.busy": "2023-08-09T03:35:12.924456Z",
          "iopub.execute_input": "2023-08-09T03:35:12.924927Z",
          "iopub.status.idle": "2023-08-09T03:35:12.958175Z",
          "shell.execute_reply.started": "2023-08-09T03:35:12.924886Z",
          "shell.execute_reply": "2023-08-09T03:35:12.956921Z"
        },
        "trusted": true,
        "id": "R8ZYr0OFaXdy"
      },
      "outputs": [],
      "execution_count": null
    },
    {
      "cell_type": "code",
      "source": [
        "df.isnull().sum().sum()"
      ],
      "metadata": {
        "execution": {
          "iopub.status.busy": "2023-08-09T03:35:12.960444Z",
          "iopub.execute_input": "2023-08-09T03:35:12.96104Z",
          "iopub.status.idle": "2023-08-09T03:35:12.970757Z",
          "shell.execute_reply.started": "2023-08-09T03:35:12.960993Z",
          "shell.execute_reply": "2023-08-09T03:35:12.969397Z"
        },
        "trusted": true,
        "id": "5TUmmqXraXdy"
      },
      "outputs": [],
      "execution_count": null
    },
    {
      "cell_type": "code",
      "source": [
        "df['Life expectation'].max(),df['Life expectation'].min()"
      ],
      "metadata": {
        "execution": {
          "iopub.status.busy": "2023-08-09T03:35:12.972296Z",
          "iopub.execute_input": "2023-08-09T03:35:12.972749Z",
          "iopub.status.idle": "2023-08-09T03:35:12.988277Z",
          "shell.execute_reply.started": "2023-08-09T03:35:12.97271Z",
          "shell.execute_reply": "2023-08-09T03:35:12.987051Z"
        },
        "trusted": true,
        "id": "4iBpjZFTaXdy"
      },
      "outputs": [],
      "execution_count": null
    },
    {
      "cell_type": "code",
      "source": [
        "df.corr()['Life expectation'].sort_values(ascending=False)"
      ],
      "metadata": {
        "execution": {
          "iopub.status.busy": "2023-08-09T03:35:12.990743Z",
          "iopub.execute_input": "2023-08-09T03:35:12.991088Z",
          "iopub.status.idle": "2023-08-09T03:35:13.004691Z",
          "shell.execute_reply.started": "2023-08-09T03:35:12.99106Z",
          "shell.execute_reply": "2023-08-09T03:35:13.003412Z"
        },
        "trusted": true,
        "id": "763JWThzaXdz"
      },
      "outputs": [],
      "execution_count": null
    },
    {
      "cell_type": "code",
      "source": [
        "#set configuration for charts\n",
        "plt.rcParams[\"figure.figsize\"]=[18 , 7]\n",
        "plt.rcParams[\"font.size\"]=15\n",
        "plt.rcParams[\"legend.fontsize\"]=\"medium\"\n",
        "plt.rcParams[\"figure.titlesize\"]=\"medium\"\n",
        "\n",
        "def plot_disribution(data , x ,color,bins ):\n",
        "    mean = data[x].mean()\n",
        "    std = data[x].std()\n",
        "    info=dict(data = data , x = x , color = color)\n",
        "    plt.subplot(1 , 3 , 1 , title =f\"Ditstribution of {x} column\")\n",
        "    sns.distplot(a=data[x] , bins = bins)\n",
        "    plt.xlabel(f\"bins of {x}\")\n",
        "    plt.axvline(mean , label =\"mean\" , color =\"red\")\n",
        "    plt.ylabel(\"frequency\")\n",
        "    plt.legend([\"${\\sigma}$ = %d\"%std , f\"mean = {mean:.2f}\"])\n",
        "    plt.title(f\"histogram of {x} column\")\n",
        "    plt.subplot(1 , 3 , 2)\n",
        "    sns.boxplot(**info)\n",
        "    plt.xlabel(f\"{x}\")\n",
        "    plt.title(f\"box plot of {x} column\")\n",
        "    plt.subplot(1 , 3 , 3)\n",
        "    sns.swarmplot(**info)\n",
        "    plt.xlabel(f\"{x}\")\n",
        "    plt.title(f\"distribution of points in {x} column\")\n",
        "    plt.suptitle(f\"Distribution of {x} column\" , fontsize =20 , color=\"red\")\n",
        "plt.show()\n",
        "\n",
        "age_bins = np.arange(29 , 77+5 , 5)\n",
        "base_color = sns.color_palette()[4]\n",
        "plot_disribution(data = df , x =\"CO\" , color = base_color , bins=age_bins)"
      ],
      "metadata": {
        "execution": {
          "iopub.status.busy": "2023-08-09T03:35:13.006505Z",
          "iopub.execute_input": "2023-08-09T03:35:13.006884Z",
          "iopub.status.idle": "2023-08-09T03:35:18.558425Z",
          "shell.execute_reply.started": "2023-08-09T03:35:13.006854Z",
          "shell.execute_reply": "2023-08-09T03:35:18.557211Z"
        },
        "trusted": true,
        "id": "fTCdaLdDaXdz"
      },
      "outputs": [],
      "execution_count": null
    },
    {
      "cell_type": "code",
      "source": [
        "X = df.drop('Life expectation',axis=1)\n",
        "y = df['Life expectation']"
      ],
      "metadata": {
        "execution": {
          "iopub.status.busy": "2023-08-09T03:35:18.560117Z",
          "iopub.execute_input": "2023-08-09T03:35:18.56049Z",
          "iopub.status.idle": "2023-08-09T03:35:18.566822Z",
          "shell.execute_reply.started": "2023-08-09T03:35:18.560457Z",
          "shell.execute_reply": "2023-08-09T03:35:18.565372Z"
        },
        "trusted": true,
        "id": "1PbWQEKiaXdz"
      },
      "outputs": [],
      "execution_count": null
    },
    {
      "cell_type": "code",
      "source": [
        "from sklearn.model_selection import train_test_split\n",
        "X_train, X_test, y_train, y_test = train_test_split(X, y, test_size=.2, random_state=42)"
      ],
      "metadata": {
        "execution": {
          "iopub.status.busy": "2023-08-09T03:35:18.568182Z",
          "iopub.execute_input": "2023-08-09T03:35:18.569393Z",
          "iopub.status.idle": "2023-08-09T03:35:18.588227Z",
          "shell.execute_reply.started": "2023-08-09T03:35:18.569355Z",
          "shell.execute_reply": "2023-08-09T03:35:18.587082Z"
        },
        "trusted": true,
        "id": "Jm9SR6WdaXd0"
      },
      "outputs": [],
      "execution_count": null
    },
    {
      "cell_type": "code",
      "source": [
        "#pip install lazypredict"
      ],
      "metadata": {
        "execution": {
          "iopub.status.busy": "2023-08-09T03:35:18.589997Z",
          "iopub.execute_input": "2023-08-09T03:35:18.590328Z",
          "iopub.status.idle": "2023-08-09T03:35:18.601949Z",
          "shell.execute_reply.started": "2023-08-09T03:35:18.590299Z",
          "shell.execute_reply": "2023-08-09T03:35:18.600589Z"
        },
        "trusted": true,
        "id": "HHewD8OOaXd0"
      },
      "outputs": [],
      "execution_count": null
    },
    {
      "cell_type": "code",
      "source": [
        "from sklearn.preprocessing import StandardScaler\n",
        "scaler = StandardScaler()\n",
        "X_train = scaler.fit_transform(X_train)\n",
        "X_test = scaler.transform(X_test)"
      ],
      "metadata": {
        "execution": {
          "iopub.status.busy": "2023-08-09T03:35:18.605812Z",
          "iopub.execute_input": "2023-08-09T03:35:18.606184Z",
          "iopub.status.idle": "2023-08-09T03:35:18.620558Z",
          "shell.execute_reply.started": "2023-08-09T03:35:18.606153Z",
          "shell.execute_reply": "2023-08-09T03:35:18.619404Z"
        },
        "trusted": true,
        "id": "PtF6jZgraXd0"
      },
      "outputs": [],
      "execution_count": null
    },
    {
      "cell_type": "code",
      "source": [
        "X_train = pd.DataFrame(X_train,columns=X.columns)\n",
        "X_train.head()"
      ],
      "metadata": {
        "execution": {
          "iopub.status.busy": "2023-08-09T03:35:18.622391Z",
          "iopub.execute_input": "2023-08-09T03:35:18.622739Z",
          "iopub.status.idle": "2023-08-09T03:35:18.646451Z",
          "shell.execute_reply.started": "2023-08-09T03:35:18.622709Z",
          "shell.execute_reply": "2023-08-09T03:35:18.645331Z"
        },
        "trusted": true,
        "id": "VEhXbuiwaXd0"
      },
      "outputs": [],
      "execution_count": null
    },
    {
      "cell_type": "code",
      "source": [
        "from sklearn.dummy import DummyRegressor\n",
        "\n",
        "from sklearn.linear_model import LinearRegression\n",
        "from sklearn.linear_model import HuberRegressor\n",
        "from sklearn.linear_model import PoissonRegressor\n",
        "from sklearn.linear_model import GammaRegressor\n",
        "from sklearn.linear_model import RidgeCV\n",
        "from sklearn.linear_model import BayesianRidge\n",
        "from sklearn.linear_model import Ridge\n",
        "from sklearn.linear_model import ElasticNetCV\n",
        "from sklearn.linear_model import LassoCV\n",
        "from sklearn.linear_model import LassoLarsIC\n",
        "from sklearn.linear_model import LassoLarsCV\n",
        "from sklearn.linear_model import Lars\n",
        "from sklearn.linear_model import LarsCV\n",
        "from sklearn.linear_model import SGDRegressor\n",
        "from sklearn.linear_model import TweedieRegressor\n",
        "from sklearn.linear_model import ElasticNet\n",
        "from sklearn.linear_model import Lasso\n",
        "from sklearn.linear_model import RANSACRegressor\n",
        "from sklearn.linear_model import OrthogonalMatchingPursuitCV\n",
        "from sklearn.linear_model import PassiveAggressiveRegressor\n",
        "from sklearn.linear_model import OrthogonalMatchingPursuit\n",
        "from sklearn.linear_model import LassoLars\n",
        "\n",
        "from sklearn.gaussian_process import GaussianProcessRegressor\n",
        "\n",
        "from sklearn.tree import DecisionTreeRegressor\n",
        "from sklearn.tree import ExtraTreeRegressor\n",
        "\n",
        "from sklearn.svm import SVR\n",
        "from sklearn.svm import NuSVR\n",
        "from sklearn.svm import LinearSVR\n",
        "\n",
        "from sklearn.ensemble import BaggingRegressor\n",
        "from sklearn.ensemble import RandomForestRegressor\n",
        "from sklearn.ensemble import GradientBoostingRegressor\n",
        "from sklearn.ensemble import ExtraTreesRegressor\n",
        "from sklearn.ensemble import AdaBoostRegressor\n",
        "from sklearn.ensemble import HistGradientBoostingRegressor\n",
        "\n",
        "from sklearn.neighbors import KNeighborsRegressor\n",
        "\n",
        "from sklearn.neural_network import MLPRegressor\n",
        "\n",
        "import xgboost as xgb\n"
      ],
      "metadata": {
        "execution": {
          "iopub.status.busy": "2023-08-09T03:35:18.648078Z",
          "iopub.execute_input": "2023-08-09T03:35:18.64843Z",
          "iopub.status.idle": "2023-08-09T03:35:18.660719Z",
          "shell.execute_reply.started": "2023-08-09T03:35:18.6484Z",
          "shell.execute_reply": "2023-08-09T03:35:18.659356Z"
        },
        "trusted": true,
        "id": "lcCcZ6ttaXd0"
      },
      "outputs": [],
      "execution_count": null
    },
    {
      "cell_type": "code",
      "source": [
        "models = []\n",
        "\n",
        "names = [\n",
        "    \"LinearRegression\",\n",
        "    \"HuberRegressor\",\n",
        "    \"RidgeCV\",\n",
        "    \"BayesianRidge\",\n",
        "    \"Ridge\",\n",
        "    \"ElasticNetCV\",\n",
        "    \"LassoCV\",\n",
        "    \"LassoLarsIC\",\n",
        "    \"LassoLarsCV\",\n",
        "    \"Lars\",\n",
        "    \"LarsCV\",\n",
        "    \"TweedieRegressor\",\n",
        "    \"ElasticNet\",\n",
        "    \"Lasso\",\n",
        "    \"OrthogonalMatchingPursuitCV\",\n",
        "    \"PassiveAggressiveRegressor\",\n",
        "    \"OrthogonalMatchingPursuit\",\n",
        "    \"DecisionTreeRegressor\",\n",
        "    \"ExtraTreeRegressor\",\n",
        "    \"LinearSVR\",\n",
        "    \"BaggingRegressor\",\n",
        "    \"RandomForestRegressor\",\n",
        "    \"GradientBoostingRegressor\",\n",
        "    \"ExtraTreesRegressor\",\n",
        "    \"AdaBoostRegressor\",\n",
        "    \"HistGradientBoostingRegressor\",\n",
        "    \"KNeighborsRegressor\",\n",
        "    \"MLPRegressor\",\n",
        "    \"xgb.XGBRegressor\"\n",
        "]\n",
        "\n",
        "scores = []\n",
        "\n",
        "clf = [\n",
        "    LinearRegression(),\n",
        "    HuberRegressor(),\n",
        "    RidgeCV(),\n",
        "    BayesianRidge(),\n",
        "    Ridge(),\n",
        "    ElasticNetCV(),\n",
        "    LassoCV(),\n",
        "    LassoLarsIC(criterion='bic', normalize=False),\n",
        "    LassoLarsCV(),\n",
        "    Lars(n_nonzero_coefs=1, normalize=False),\n",
        "    LarsCV(),\n",
        "    TweedieRegressor(),\n",
        "    ElasticNet(),\n",
        "    Lasso(alpha=0.1),\n",
        "    OrthogonalMatchingPursuitCV(),\n",
        "    PassiveAggressiveRegressor(),\n",
        "    OrthogonalMatchingPursuit(),\n",
        "    DecisionTreeRegressor(),\n",
        "    ExtraTreeRegressor(),\n",
        "    LinearSVR(),\n",
        "    BaggingRegressor(),\n",
        "    RandomForestRegressor(),\n",
        "    GradientBoostingRegressor(),\n",
        "    ExtraTreesRegressor(),\n",
        "    AdaBoostRegressor(),\n",
        "    HistGradientBoostingRegressor(),\n",
        "    KNeighborsRegressor(),\n",
        "    MLPRegressor(),\n",
        "    xgb.XGBRegressor(verbosity=0)\n",
        "]"
      ],
      "metadata": {
        "execution": {
          "iopub.status.busy": "2023-08-09T03:35:18.663034Z",
          "iopub.execute_input": "2023-08-09T03:35:18.663499Z",
          "iopub.status.idle": "2023-08-09T03:35:18.681765Z",
          "shell.execute_reply.started": "2023-08-09T03:35:18.663456Z",
          "shell.execute_reply": "2023-08-09T03:35:18.680706Z"
        },
        "trusted": true,
        "id": "clKL1DW8aXd0"
      },
      "outputs": [],
      "execution_count": null
    },
    {
      "cell_type": "code",
      "source": [
        "%%time\n",
        "for model in clf:\n",
        "    model.fit(X_train, y_train)\n",
        "    score = model.score(X_test, y_test)\n",
        "    scores.append(score)\n",
        "\n",
        "final_scores = pd.DataFrame(zip(names,scores), columns=['Classifier', 'Accuracy'])\n",
        "\n",
        "final_scores.sort_values(by='Accuracy',ascending=False).style.background_gradient(cmap=\"summer\").set_properties(**{\n",
        "            'font-family': 'Comic Sans MS',\n",
        "            'color': 'Blue',\n",
        "            'font-size': '15px'\n",
        "        })"
      ],
      "metadata": {
        "execution": {
          "iopub.status.busy": "2023-08-09T03:35:18.683696Z",
          "iopub.execute_input": "2023-08-09T03:35:18.68445Z",
          "iopub.status.idle": "2023-08-09T03:35:20.969514Z",
          "shell.execute_reply.started": "2023-08-09T03:35:18.684404Z",
          "shell.execute_reply": "2023-08-09T03:35:20.968404Z"
        },
        "trusted": true,
        "id": "GiG9oWslaXd1"
      },
      "outputs": [],
      "execution_count": null
    },
    {
      "cell_type": "code",
      "source": [
        "from sklearn import metrics\n",
        "\n",
        "def print_evaluate(true, predicted, train=True):\n",
        "    mae = metrics.mean_absolute_error(true, predicted)\n",
        "    mse = metrics.mean_squared_error(true, predicted)\n",
        "    rmse = np.sqrt(metrics.mean_squared_error(true, predicted))\n",
        "    r2_square = metrics.r2_score(true, predicted)\n",
        "    if train:\n",
        "        print(\"========Training Result=======\")\n",
        "        print('MAE: ', mae)\n",
        "        print('MSE: ', mse)\n",
        "        print('RMSE: ', rmse)\n",
        "        print('R2 Square: ', r2_square)\n",
        "    elif not train:\n",
        "        print(\"=========Testing Result=======\")\n",
        "        print('MAE: ', mae)\n",
        "        print('MSE: ', mse)\n",
        "        print('RMSE: ', rmse)\n",
        "        print('R2 Square: ', r2_square)"
      ],
      "metadata": {
        "execution": {
          "iopub.status.busy": "2023-08-09T03:35:20.971502Z",
          "iopub.execute_input": "2023-08-09T03:35:20.971965Z",
          "iopub.status.idle": "2023-08-09T03:35:20.980425Z",
          "shell.execute_reply.started": "2023-08-09T03:35:20.971923Z",
          "shell.execute_reply": "2023-08-09T03:35:20.979276Z"
        },
        "trusted": true,
        "id": "oCvEd9hvaXd1"
      },
      "outputs": [],
      "execution_count": null
    },
    {
      "cell_type": "code",
      "source": [
        "print(f\"\\033[034m\\033[1m\")\n",
        "y_train_pred = model.predict(X_train)\n",
        "y_test_pred = model.predict(X_test)\n",
        "\n",
        "print_evaluate(y_train, y_train_pred, train=True)\n",
        "print_evaluate(y_test, y_test_pred, train=False)"
      ],
      "metadata": {
        "execution": {
          "iopub.status.busy": "2023-08-09T03:35:20.982036Z",
          "iopub.execute_input": "2023-08-09T03:35:20.982393Z",
          "iopub.status.idle": "2023-08-09T03:35:21.007498Z",
          "shell.execute_reply.started": "2023-08-09T03:35:20.98236Z",
          "shell.execute_reply": "2023-08-09T03:35:21.006204Z"
        },
        "trusted": true,
        "id": "ZG_WGIhuaXd1"
      },
      "outputs": [],
      "execution_count": null
    },
    {
      "cell_type": "markdown",
      "source": [
        "# Result Prediction"
      ],
      "metadata": {
        "id": "QHDHOv6oaXd1"
      }
    },
    {
      "cell_type": "code",
      "source": [
        "from sklearn.ensemble import GradientBoostingRegressor\n",
        "gbr = GradientBoostingRegressor(learning_rate=0.03,max_depth=5,max_features=6,n_estimators=100,random_state=42)\n",
        "gbr.fit(X_train,y_train)\n",
        "prediction = gbr.predict(X_test)\n",
        "print(prediction)"
      ],
      "metadata": {
        "execution": {
          "iopub.status.busy": "2023-08-09T03:35:21.009305Z",
          "iopub.execute_input": "2023-08-09T03:35:21.009782Z",
          "iopub.status.idle": "2023-08-09T03:35:21.15268Z",
          "shell.execute_reply.started": "2023-08-09T03:35:21.009739Z",
          "shell.execute_reply": "2023-08-09T03:35:21.151779Z"
        },
        "trusted": true,
        "id": "0FkJisfLaXd1"
      },
      "outputs": [],
      "execution_count": null
    },
    {
      "cell_type": "code",
      "source": [
        "cross_checking = pd.DataFrame({'Actual' : y_test , 'Predicted' : prediction})\n",
        "cross_checking.head()"
      ],
      "metadata": {
        "execution": {
          "iopub.status.busy": "2023-08-09T03:35:21.154055Z",
          "iopub.execute_input": "2023-08-09T03:35:21.154423Z",
          "iopub.status.idle": "2023-08-09T03:35:21.1669Z",
          "shell.execute_reply.started": "2023-08-09T03:35:21.154391Z",
          "shell.execute_reply": "2023-08-09T03:35:21.16546Z"
        },
        "trusted": true,
        "id": "gJpFNzVsaXd1"
      },
      "outputs": [],
      "execution_count": null
    },
    {
      "cell_type": "code",
      "source": [
        "cross_checking['Error'] = cross_checking['Actual'] - cross_checking['Predicted']\n",
        "cross_checking.head()"
      ],
      "metadata": {
        "execution": {
          "iopub.status.busy": "2023-08-09T03:35:21.168039Z",
          "iopub.execute_input": "2023-08-09T03:35:21.168393Z",
          "iopub.status.idle": "2023-08-09T03:35:21.185176Z",
          "shell.execute_reply.started": "2023-08-09T03:35:21.168363Z",
          "shell.execute_reply": "2023-08-09T03:35:21.184013Z"
        },
        "trusted": true,
        "id": "nfzfUoQRaXd1"
      },
      "outputs": [],
      "execution_count": null
    },
    {
      "cell_type": "code",
      "source": [
        "cross_checking_final  = cross_checking[cross_checking['Error'] <= 20]\n",
        "cross_checking_final.sample(25).style.background_gradient(\n",
        "        cmap='coolwarm').set_properties(**{\n",
        "            'font-family': 'Lucida Calligraphy',\n",
        "            'color': 'LigntGreen',\n",
        "            'font-size': '15px'\n",
        "        })"
      ],
      "metadata": {
        "execution": {
          "iopub.status.busy": "2023-08-09T03:35:21.186362Z",
          "iopub.execute_input": "2023-08-09T03:35:21.186724Z",
          "iopub.status.idle": "2023-08-09T03:35:21.223488Z",
          "shell.execute_reply.started": "2023-08-09T03:35:21.186683Z",
          "shell.execute_reply": "2023-08-09T03:35:21.222501Z"
        },
        "trusted": true,
        "id": "aOcIa4whaXd1"
      },
      "outputs": [],
      "execution_count": null
    },
    {
      "cell_type": "markdown",
      "source": [
        "# ANN"
      ],
      "metadata": {
        "id": "gjsUwKvKaXd1"
      }
    },
    {
      "cell_type": "code",
      "source": [
        "from sklearn.model_selection import train_test_split\n",
        "from sklearn.preprocessing import MinMaxScaler\n",
        "\n",
        "X = df.drop('Life expectation',axis=1)\n",
        "y = df['Life expectation']\n",
        "\n",
        "X_train, X_test, y_train, y_test = train_test_split(X,y,test_size=0.3,random_state=101,shuffle=True)\n",
        "\n",
        "scaler = MinMaxScaler()\n",
        "\n",
        "X_train= scaler.fit_transform(X_train)\n",
        "X_test = scaler.transform(X_test)\n",
        "\n",
        "print(X_train.shape)\n",
        "print(X_test.shape)"
      ],
      "metadata": {
        "execution": {
          "iopub.status.busy": "2023-08-09T03:35:21.224902Z",
          "iopub.execute_input": "2023-08-09T03:35:21.225252Z",
          "iopub.status.idle": "2023-08-09T03:35:21.242874Z",
          "shell.execute_reply.started": "2023-08-09T03:35:21.22522Z",
          "shell.execute_reply": "2023-08-09T03:35:21.241728Z"
        },
        "trusted": true,
        "id": "5jRnLzLKaXd1"
      },
      "outputs": [],
      "execution_count": null
    },
    {
      "cell_type": "code",
      "source": [
        "from sklearn import metrics\n",
        "\n",
        "def print_evaluate(true, predicted, train=True):\n",
        "    mae = metrics.mean_absolute_error(true, predicted)\n",
        "    mse = metrics.mean_squared_error(true, predicted)\n",
        "    rmse = np.sqrt(metrics.mean_squared_error(true, predicted))\n",
        "    r2_square = metrics.r2_score(true, predicted)\n",
        "    if train:\n",
        "        print(\"========Training Result=======\")\n",
        "        print('MAE: ', mae)\n",
        "        print('MSE: ', mse)\n",
        "        print('RMSE: ', rmse)\n",
        "        print('R2 Square: ', r2_square)\n",
        "    elif not train:\n",
        "        print(\"=========Testing Result=======\")\n",
        "        print('MAE: ', mae)\n",
        "        print('MSE: ', mse)\n",
        "        print('RMSE: ', rmse)\n",
        "        print('R2 Square: ', r2_square)"
      ],
      "metadata": {
        "execution": {
          "iopub.status.busy": "2023-08-09T03:35:21.244762Z",
          "iopub.execute_input": "2023-08-09T03:35:21.245128Z",
          "iopub.status.idle": "2023-08-09T03:35:21.254129Z",
          "shell.execute_reply.started": "2023-08-09T03:35:21.245095Z",
          "shell.execute_reply": "2023-08-09T03:35:21.252971Z"
        },
        "trusted": true,
        "id": "waZrbqslaXd1"
      },
      "outputs": [],
      "execution_count": null
    },
    {
      "cell_type": "code",
      "source": [
        "from tensorflow.keras.models import Sequential\n",
        "from tensorflow.keras.layers import Input, Dense, Activation, Dropout\n",
        "from tensorflow.keras.optimizers import Adam"
      ],
      "metadata": {
        "execution": {
          "iopub.status.busy": "2023-08-09T03:35:21.259691Z",
          "iopub.execute_input": "2023-08-09T03:35:21.260057Z",
          "iopub.status.idle": "2023-08-09T03:35:21.266864Z",
          "shell.execute_reply.started": "2023-08-09T03:35:21.260027Z",
          "shell.execute_reply": "2023-08-09T03:35:21.265689Z"
        },
        "trusted": true,
        "id": "AuHCLnnbaXd1"
      },
      "outputs": [],
      "execution_count": null
    },
    {
      "cell_type": "code",
      "source": [
        "from tensorflow import keras\n",
        "from tensorflow.keras import layers\n",
        "\n",
        "model = Sequential()\n",
        "\n",
        "keras.layers.BatchNormalization(epsilon=1e-06, momentum=0.9, weights=None)\n",
        "\n",
        "model.add(Dense(X_train.shape[1],activation='relu'))\n",
        "model.add(Dense(32,activation='relu'))\n",
        "model.add(Dropout(0.50))\n",
        "\n",
        "model.add(Dense(64,activation='relu'))\n",
        "model.add(Dropout(0.50))\n",
        "\n",
        "model.add(Dense(64,activation='relu'))\n",
        "model.add(Dropout(0.50))\n",
        "\n",
        "model.add(Dense(64,activation='relu'))\n",
        "model.add(Dropout(0.50))\n",
        "\n",
        "model.add(Dense(128,activation='relu'))\n",
        "model.add(Dropout(0.50))\n",
        "\n",
        "model.add(Dense(128,activation='relu'))\n",
        "model.add(Dropout(0.25))\n",
        "\n",
        "model.add(Dense(128,activation='relu'))\n",
        "model.add(Dropout(0.50))\n",
        "\n",
        "model.add(Dense(256,activation='relu'))\n",
        "model.add(Dropout(0.50))\n",
        "\n",
        "model.add(Dense(512,activation='relu'))\n",
        "model.add(Dropout(0.50))\n",
        "\n",
        "model.add(Dense(512,activation='relu'))\n",
        "model.add(Dropout(0.50))\n",
        "\n",
        "model.add(Dense(512,activation='relu'))\n",
        "model.add(Dropout(0.50))\n",
        "\n",
        "model.add(Dense(1024,activation='relu'))\n",
        "model.add(Dropout(0.5))\n",
        "\n",
        "model.add(Dense(1024,activation='relu'))\n",
        "model.add(Dropout(0.50))\n",
        "\n",
        "model.add(Dense(1024,activation='relu'))\n",
        "model.add(Dropout(0.50))\n",
        "\n",
        "model.add(Dense(1))\n",
        "\n",
        "model.compile(optimizer=Adam(0.001), loss='mse')"
      ],
      "metadata": {
        "execution": {
          "iopub.status.busy": "2023-08-09T03:35:21.26851Z",
          "iopub.execute_input": "2023-08-09T03:35:21.26934Z",
          "iopub.status.idle": "2023-08-09T03:35:21.33953Z",
          "shell.execute_reply.started": "2023-08-09T03:35:21.269307Z",
          "shell.execute_reply": "2023-08-09T03:35:21.338318Z"
        },
        "trusted": true,
        "id": "_Dj42VujaXd1"
      },
      "outputs": [],
      "execution_count": null
    },
    {
      "cell_type": "code",
      "source": [
        "r = model.fit(\n",
        "    X_train, y_train.values,\n",
        "    validation_data=(X_test,y_test.values),\n",
        "    batch_size=128,\n",
        "    epochs=500\n",
        ")"
      ],
      "metadata": {
        "execution": {
          "iopub.status.busy": "2023-08-09T03:35:21.341043Z",
          "iopub.execute_input": "2023-08-09T03:35:21.341404Z",
          "iopub.status.idle": "2023-08-09T03:38:47.135393Z",
          "shell.execute_reply.started": "2023-08-09T03:35:21.341371Z",
          "shell.execute_reply": "2023-08-09T03:38:47.133898Z"
        },
        "trusted": true,
        "id": "54LzIkJjaXd2"
      },
      "outputs": [],
      "execution_count": null
    },
    {
      "cell_type": "code",
      "source": [
        "plt.figure(figsize=(10, 6))\n",
        "\n",
        "plt.plot(r.history['loss'], label='loss')\n",
        "plt.plot(r.history['val_loss'], label='val_loss')\n",
        "plt.xlabel(\"Epochs\")\n",
        "plt.ylabel(\"MSE\")\n",
        "plt.legend();"
      ],
      "metadata": {
        "execution": {
          "iopub.status.busy": "2023-08-09T03:38:47.13761Z",
          "iopub.execute_input": "2023-08-09T03:38:47.138106Z",
          "iopub.status.idle": "2023-08-09T03:38:47.501435Z",
          "shell.execute_reply.started": "2023-08-09T03:38:47.138058Z",
          "shell.execute_reply": "2023-08-09T03:38:47.500162Z"
        },
        "trusted": true,
        "id": "LNhU1OYmaXd2"
      },
      "outputs": [],
      "execution_count": null
    },
    {
      "cell_type": "code",
      "source": [
        "print(f\"\\033[034m\\033[1m\")\n",
        "y_train_pred = model.predict(X_train)\n",
        "y_test_pred = model.predict(X_test)\n",
        "\n",
        "print_evaluate(y_train, y_train_pred, train=True)\n",
        "print_evaluate(y_test, y_test_pred, train=False)"
      ],
      "metadata": {
        "execution": {
          "iopub.status.busy": "2023-08-09T03:38:47.502943Z",
          "iopub.execute_input": "2023-08-09T03:38:47.50339Z",
          "iopub.status.idle": "2023-08-09T03:38:47.995302Z",
          "shell.execute_reply.started": "2023-08-09T03:38:47.50334Z",
          "shell.execute_reply": "2023-08-09T03:38:47.994356Z"
        },
        "trusted": true,
        "id": "dtPwBltdaXd2"
      },
      "outputs": [],
      "execution_count": null
    },
    {
      "cell_type": "code",
      "source": [],
      "metadata": {
        "id": "Z3nnBEweaXd2"
      },
      "outputs": [],
      "execution_count": null
    },
    {
      "cell_type": "code",
      "source": [],
      "metadata": {
        "id": "hySbku5KaXd2"
      },
      "outputs": [],
      "execution_count": null
    },
    {
      "cell_type": "code",
      "source": [],
      "metadata": {
        "id": "3prfSUrkaXd2"
      },
      "outputs": [],
      "execution_count": null
    }
  ]
}