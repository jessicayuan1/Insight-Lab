{
  "metadata": {
    "kernelspec": {
      "language": "python",
      "display_name": "Python 3",
      "name": "python3"
    },
    "language_info": {
      "pygments_lexer": "ipython3",
      "nbconvert_exporter": "python",
      "version": "3.6.4",
      "file_extension": ".py",
      "codemirror_mode": {
        "name": "ipython",
        "version": 3
      },
      "name": "python",
      "mimetype": "text/x-python"
    },
    "kaggle": {
      "accelerator": "none",
      "dataSources": [
        {
          "sourceId": 3808973,
          "sourceType": "datasetVersion",
          "datasetId": 2269967
        }
      ],
      "dockerImageVersionId": 30301,
      "isInternetEnabled": true,
      "language": "python",
      "sourceType": "notebook",
      "isGpuEnabled": false
    },
    "colab": {
      "name": "Predictive Maintenance - Batteries RUL",
      "provenance": [],
      "include_colab_link": true
    }
  },
  "nbformat_minor": 0,
  "nbformat": 4,
  "cells": [
    {
      "cell_type": "markdown",
      "metadata": {
        "id": "view-in-github",
        "colab_type": "text"
      },
      "source": [
        "<a href=\"https://colab.research.google.com/github/jessicayuan1/Insight-Lab/blob/main/Predictive_Maintenance_Batteries_RUL.ipynb\" target=\"_parent\"><img src=\"https://colab.research.google.com/assets/colab-badge.svg\" alt=\"Open In Colab\"/></a>"
      ]
    },
    {
      "source": [
        "\n",
        "import kagglehub\n",
        "ignaciovinuales_battery_remaining_useful_life_rul_path = kagglehub.dataset_download('ignaciovinuales/battery-remaining-useful-life-rul')\n",
        "\n",
        "print('Data source import complete.')\n"
      ],
      "metadata": {
        "id": "qAIMhlP-ZW3j"
      },
      "cell_type": "code",
      "outputs": [],
      "execution_count": null
    },
    {
      "cell_type": "markdown",
      "source": [
        "<a id='top'></a>\n",
        "<div class=\"list-group\" id=\"list-tab\" role=\"tablist\">\n",
        "    \n",
        "<h1 style=\"padding: 8px;color:white; display:fill;background-color:#555555; border-radius:5px; font-size:150%\"><b> Table of contents </b></h1>\n",
        "\n",
        " - [**Introduction**](#1)\n",
        "\n",
        " - [**Explore**](#2)\n",
        "\n",
        " - [**Pre-processing and feature selection**](#3)\n",
        "    \n",
        " - [**Modelling and Evaluation**](#4)\n",
        "    - [**kNN**](#4_1)\n",
        "    - [**SVM**](#4_2)\n",
        "    - [**Random Forest**](#4_3)    \n",
        " - [**Evaluate**](#5)\n",
        " - [**Conclusion**](#6)\n",
        "   "
      ],
      "metadata": {
        "papermill": {
          "duration": 0.032291,
          "end_time": "2022-11-14T13:42:15.37056",
          "exception": false,
          "start_time": "2022-11-14T13:42:15.338269",
          "status": "completed"
        },
        "tags": [],
        "id": "MBy0O9z4ZW3l"
      }
    },
    {
      "cell_type": "markdown",
      "source": [
        "<a id='1'></a>\n",
        "# <p style=\"padding: 8px;color:white; display:fill;background-color:#555555; border-radius:5px; font-size:100%\"> <b>Introduction</b>"
      ],
      "metadata": {
        "papermill": {
          "duration": 0.030174,
          "end_time": "2022-11-14T13:42:15.437622",
          "exception": false,
          "start_time": "2022-11-14T13:42:15.407448",
          "status": "completed"
        },
        "tags": [],
        "id": "e7CEYLY0ZW3m"
      }
    },
    {
      "cell_type": "markdown",
      "source": [
        "The Hawaii Natural Energy Institute examined 14 NMC-LCO 18650 batteries with a nominal capacity of 2.8 Ah, which were cycled over 1000 times at 25°C with a CC-CV charge rate of C/2 rate and discharge rate of 1.5C.\n",
        "\n",
        "From that source dataset, I created features that showcase the voltage and current behaviour over each cycle. Those features can be used to predict the remaining useful life (RUL) of the batteries. The dataset contains the summary of the 14 batteries.\n",
        "\n",
        "Variables:\n",
        "\n",
        " - Cycle Index: number of cycle\n",
        " - F1: Discharge Time (s)\n",
        " - F2: Time at 4.15V (s)\n",
        " - F3: Time Constant Current (s)\n",
        " - F4: Decrement 3.6-3.4V (s)\n",
        " - F5: Max. Voltage Discharge (V)\n",
        " - F6: Min. Voltage Charge (V)\n",
        " - F7: Charging Time (s)\n",
        " - Total time (s)\n",
        " - RUL: target\n",
        "\n",
        "You may check on GitHub how the dataset was built: https://github.com/ignavinuales/Battery_RUL_Prediction"
      ],
      "metadata": {
        "papermill": {
          "duration": 0.027517,
          "end_time": "2022-11-14T13:42:15.550393",
          "exception": false,
          "start_time": "2022-11-14T13:42:15.522876",
          "status": "completed"
        },
        "tags": [],
        "id": "TLM__XZvZW3n"
      }
    },
    {
      "cell_type": "markdown",
      "source": [
        "<a id='2'></a>\n",
        "# <p style=\"padding: 8px;color:white; display:fill;background-color:#555555; border-radius:5px; font-size:100%\"> <b>Explore</b>"
      ],
      "metadata": {
        "papermill": {
          "duration": 0.026971,
          "end_time": "2022-11-14T13:42:15.604697",
          "exception": false,
          "start_time": "2022-11-14T13:42:15.577726",
          "status": "completed"
        },
        "tags": [],
        "id": "cxsqYIMJZW3n"
      }
    },
    {
      "cell_type": "code",
      "source": [
        "import numpy as np\n",
        "import pandas as pd\n",
        "\n",
        "from IPython.display import display, HTML\n",
        "import plotly.graph_objects as go\n",
        "import plotly.express as px\n",
        "from plotly.subplots import make_subplots\n",
        "import plotly.io as pio\n",
        "\n",
        "\n",
        "import seaborn as sns\n",
        "from importlib import reload\n",
        "import matplotlib.pyplot as plt\n",
        "import matplotlib\n",
        "import warnings\n",
        "\n",
        "# Configure Jupyter Notebook\n",
        "pd.set_option('display.max_columns', None)\n",
        "pd.set_option('display.max_rows', 500)\n",
        "pd.set_option('display.expand_frame_repr', False)\n",
        "display(HTML(\"<style>div.output_scroll { height: 35em; }</style>\"))\n",
        "\n",
        "reload(plt)\n",
        "%matplotlib inline\n",
        "%config InlineBackend.figure_format ='retina'\n",
        "\n",
        "warnings.filterwarnings('ignore')\n"
      ],
      "metadata": {
        "papermill": {
          "duration": 2.549187,
          "end_time": "2022-11-14T13:42:18.181105",
          "exception": false,
          "start_time": "2022-11-14T13:42:15.631918",
          "status": "completed"
        },
        "tags": [],
        "execution": {
          "iopub.status.busy": "2022-12-02T18:59:20.908245Z",
          "iopub.execute_input": "2022-12-02T18:59:20.908717Z",
          "iopub.status.idle": "2022-12-02T18:59:20.941202Z",
          "shell.execute_reply.started": "2022-12-02T18:59:20.908671Z",
          "shell.execute_reply": "2022-12-02T18:59:20.939881Z"
        },
        "trusted": true,
        "id": "BCa-6AU1ZW3n"
      },
      "outputs": [],
      "execution_count": null
    },
    {
      "cell_type": "code",
      "source": [
        "# df = pd.read_csv('Battery_RUL.csv')\n",
        "df = pd.read_csv(\"../input/battery-remaining-useful-life-rul/Battery_RUL.csv\")"
      ],
      "metadata": {
        "papermill": {
          "duration": 0.082654,
          "end_time": "2022-11-14T13:42:18.291858",
          "exception": false,
          "start_time": "2022-11-14T13:42:18.209204",
          "status": "completed"
        },
        "tags": [],
        "execution": {
          "iopub.status.busy": "2022-12-02T18:59:20.984333Z",
          "iopub.execute_input": "2022-12-02T18:59:20.984738Z",
          "iopub.status.idle": "2022-12-02T18:59:21.01147Z",
          "shell.execute_reply.started": "2022-12-02T18:59:20.984703Z",
          "shell.execute_reply": "2022-12-02T18:59:21.010353Z"
        },
        "trusted": true,
        "id": "mg19mfycZW3o"
      },
      "outputs": [],
      "execution_count": null
    },
    {
      "cell_type": "markdown",
      "source": [
        "First up is just to eyeball the data.\n"
      ],
      "metadata": {
        "papermill": {
          "duration": 0.027514,
          "end_time": "2022-11-14T13:42:18.347846",
          "exception": false,
          "start_time": "2022-11-14T13:42:18.320332",
          "status": "completed"
        },
        "tags": [],
        "id": "at64FSg6ZW3o"
      }
    },
    {
      "cell_type": "code",
      "source": [
        "df.head()"
      ],
      "metadata": {
        "papermill": {
          "duration": 0.056394,
          "end_time": "2022-11-14T13:42:18.431654",
          "exception": false,
          "start_time": "2022-11-14T13:42:18.37526",
          "status": "completed"
        },
        "tags": [],
        "execution": {
          "iopub.status.busy": "2022-12-02T18:59:21.01337Z",
          "iopub.execute_input": "2022-12-02T18:59:21.013909Z",
          "iopub.status.idle": "2022-12-02T18:59:21.031861Z",
          "shell.execute_reply.started": "2022-12-02T18:59:21.013876Z",
          "shell.execute_reply": "2022-12-02T18:59:21.030668Z"
        },
        "trusted": true,
        "id": "141zoRpzZW3o"
      },
      "outputs": [],
      "execution_count": null
    },
    {
      "cell_type": "code",
      "source": [
        "df['Battery ID']= 0\n",
        "batteries=[]\n",
        "ID=1\n",
        "for rul in df['RUL']:\n",
        "    batteries.append(ID)\n",
        "    if rul == 0:\n",
        "        ID+=1\n",
        "        continue\n",
        "df['Battery ID'] = batteries"
      ],
      "metadata": {
        "papermill": {
          "duration": 0.063594,
          "end_time": "2022-11-14T13:42:18.578509",
          "exception": false,
          "start_time": "2022-11-14T13:42:18.514915",
          "status": "completed"
        },
        "tags": [],
        "execution": {
          "iopub.status.busy": "2022-12-02T18:59:21.033631Z",
          "iopub.execute_input": "2022-12-02T18:59:21.034363Z",
          "iopub.status.idle": "2022-12-02T18:59:21.050219Z",
          "shell.execute_reply.started": "2022-12-02T18:59:21.034318Z",
          "shell.execute_reply": "2022-12-02T18:59:21.049242Z"
        },
        "trusted": true,
        "id": "0hoZHKYkZW3o"
      },
      "outputs": [],
      "execution_count": null
    },
    {
      "cell_type": "code",
      "source": [
        "sensor_list = df.columns[1:-2]\n",
        "sensor_list"
      ],
      "metadata": {
        "papermill": {
          "duration": 0.063594,
          "end_time": "2022-11-14T13:42:18.578509",
          "exception": false,
          "start_time": "2022-11-14T13:42:18.514915",
          "status": "completed"
        },
        "tags": [],
        "execution": {
          "iopub.status.busy": "2022-12-02T18:59:21.05179Z",
          "iopub.execute_input": "2022-12-02T18:59:21.052533Z",
          "iopub.status.idle": "2022-12-02T18:59:21.066277Z",
          "shell.execute_reply.started": "2022-12-02T18:59:21.052485Z",
          "shell.execute_reply": "2022-12-02T18:59:21.065133Z"
        },
        "trusted": true,
        "id": "lrBo66gsZW3p"
      },
      "outputs": [],
      "execution_count": null
    },
    {
      "cell_type": "code",
      "source": [
        "df.info()"
      ],
      "metadata": {
        "papermill": {
          "duration": 0.063594,
          "end_time": "2022-11-14T13:42:18.578509",
          "exception": false,
          "start_time": "2022-11-14T13:42:18.514915",
          "status": "completed"
        },
        "tags": [],
        "execution": {
          "iopub.status.busy": "2022-12-02T18:59:21.069148Z",
          "iopub.execute_input": "2022-12-02T18:59:21.069856Z",
          "iopub.status.idle": "2022-12-02T18:59:21.084837Z",
          "shell.execute_reply.started": "2022-12-02T18:59:21.069798Z",
          "shell.execute_reply": "2022-12-02T18:59:21.083812Z"
        },
        "trusted": true,
        "id": "GvUy-HurZW3p"
      },
      "outputs": [],
      "execution_count": null
    },
    {
      "cell_type": "code",
      "source": [
        "df.describe(include='all').T"
      ],
      "metadata": {
        "papermill": {
          "duration": 0.063594,
          "end_time": "2022-11-14T13:42:18.578509",
          "exception": false,
          "start_time": "2022-11-14T13:42:18.514915",
          "status": "completed"
        },
        "tags": [],
        "execution": {
          "iopub.status.busy": "2022-12-02T18:59:21.086437Z",
          "iopub.execute_input": "2022-12-02T18:59:21.087022Z",
          "iopub.status.idle": "2022-12-02T18:59:21.130754Z",
          "shell.execute_reply.started": "2022-12-02T18:59:21.086963Z",
          "shell.execute_reply": "2022-12-02T18:59:21.129687Z"
        },
        "trusted": true,
        "id": "GEoIoo0CZW3p"
      },
      "outputs": [],
      "execution_count": null
    },
    {
      "cell_type": "code",
      "source": [
        "train_battery_ids = []\n",
        "test_battery_ids = []\n",
        "battery_ids = df['Battery ID'].unique()\n",
        "\n",
        "for i in battery_ids:\n",
        "    if i<9:\n",
        "        train_battery_ids.append(i)\n",
        "    else:\n",
        "        test_battery_ids.append(i)\n",
        "df_train = df[df['Battery ID'].isin(train_battery_ids)]\n",
        "df_test = df[df['Battery ID'].isin(test_battery_ids)]"
      ],
      "metadata": {
        "papermill": {
          "duration": 0.063594,
          "end_time": "2022-11-14T13:42:18.578509",
          "exception": false,
          "start_time": "2022-11-14T13:42:18.514915",
          "status": "completed"
        },
        "tags": [],
        "execution": {
          "iopub.status.busy": "2022-12-02T18:59:21.261717Z",
          "iopub.execute_input": "2022-12-02T18:59:21.262606Z",
          "iopub.status.idle": "2022-12-02T18:59:21.272843Z",
          "shell.execute_reply.started": "2022-12-02T18:59:21.262564Z",
          "shell.execute_reply": "2022-12-02T18:59:21.271381Z"
        },
        "trusted": true,
        "id": "qqTxUnWnZW3p"
      },
      "outputs": [],
      "execution_count": null
    },
    {
      "cell_type": "markdown",
      "source": [
        "We find the RUL for the components at each cycle"
      ],
      "metadata": {
        "papermill": {
          "duration": 0.063594,
          "end_time": "2022-11-14T13:42:18.578509",
          "exception": false,
          "start_time": "2022-11-14T13:42:18.514915",
          "status": "completed"
        },
        "tags": [],
        "id": "2jIQQ5JIZW3p"
      }
    },
    {
      "cell_type": "code",
      "source": [
        "plt.figure(figsize=(10,10))\n",
        "threshold = 0.90\n",
        "sns.set_style(\"whitegrid\", {\"axes.facecolor\": \".0\"})\n",
        "df_cluster2 = df_train.corr()\n",
        "mask = df_cluster2.where((abs(df_cluster2) >= threshold)).isna()\n",
        "plot_kws={\"s\": 1}\n",
        "sns.heatmap(df_cluster2,\n",
        "            cmap='RdYlBu',\n",
        "            annot=True,\n",
        "            mask=mask,\n",
        "            linewidths=0.2,\n",
        "            linecolor='lightgrey').set_facecolor('white')"
      ],
      "metadata": {
        "papermill": {
          "duration": 0.781704,
          "end_time": "2022-11-14T13:42:23.621339",
          "exception": false,
          "start_time": "2022-11-14T13:42:22.839635",
          "status": "completed"
        },
        "tags": [],
        "execution": {
          "iopub.status.busy": "2022-12-02T18:59:21.275236Z",
          "iopub.execute_input": "2022-12-02T18:59:21.275666Z",
          "iopub.status.idle": "2022-12-02T18:59:22.059343Z",
          "shell.execute_reply.started": "2022-12-02T18:59:21.275629Z",
          "shell.execute_reply": "2022-12-02T18:59:22.058031Z"
        },
        "trusted": true,
        "id": "6fJ7JVbXZW3p"
      },
      "outputs": [],
      "execution_count": null
    },
    {
      "cell_type": "code",
      "source": [
        "from pandas_profiling import ProfileReport"
      ],
      "metadata": {
        "papermill": {
          "duration": 2.01412,
          "end_time": "2022-11-14T13:42:25.666887",
          "exception": false,
          "start_time": "2022-11-14T13:42:23.652767",
          "status": "completed"
        },
        "tags": [],
        "execution": {
          "iopub.status.busy": "2022-12-02T18:59:22.061059Z",
          "iopub.execute_input": "2022-12-02T18:59:22.062485Z",
          "iopub.status.idle": "2022-12-02T18:59:22.067762Z",
          "shell.execute_reply.started": "2022-12-02T18:59:22.062441Z",
          "shell.execute_reply": "2022-12-02T18:59:22.066529Z"
        },
        "trusted": true,
        "id": "LwKXcdfrZW3p"
      },
      "outputs": [],
      "execution_count": null
    },
    {
      "cell_type": "markdown",
      "source": [
        "The profiling report follows to look for outliers, missing values, and distributions."
      ],
      "metadata": {
        "papermill": {
          "duration": 0.031558,
          "end_time": "2022-11-14T13:42:25.72966",
          "exception": false,
          "start_time": "2022-11-14T13:42:25.698102",
          "status": "completed"
        },
        "tags": [],
        "id": "Zio4YlEYZW3q"
      }
    },
    {
      "cell_type": "code",
      "source": [
        "# %%time\n",
        "# profile = ProfileReport(df_train,\n",
        "#                         title=\"Predictive Maintenance\",\n",
        "#                         dataset={\"description\": \"This profiling report was generated for Carl Kirstein\",\n",
        "#                                  \"copyright_holder\": \"Carl Kirstein\",\n",
        "#                                  \"copyright_year\": \"2022\",\n",
        "#                                 },\n",
        "#                         explorative=True,\n",
        "#                        )\n",
        "# profile"
      ],
      "metadata": {
        "papermill": {
          "duration": 22.767685,
          "end_time": "2022-11-14T13:42:48.528417",
          "exception": false,
          "start_time": "2022-11-14T13:42:25.760732",
          "status": "completed"
        },
        "tags": [],
        "execution": {
          "iopub.status.busy": "2022-12-02T18:59:22.068904Z",
          "iopub.execute_input": "2022-12-02T18:59:22.069436Z",
          "iopub.status.idle": "2022-12-02T18:59:22.080952Z",
          "shell.execute_reply.started": "2022-12-02T18:59:22.069399Z",
          "shell.execute_reply": "2022-12-02T18:59:22.080071Z"
        },
        "trusted": true,
        "id": "XW4e0gmoZW3q"
      },
      "outputs": [],
      "execution_count": null
    },
    {
      "cell_type": "markdown",
      "source": [
        "sensors with constant values can be dropped as they have no predictive power"
      ],
      "metadata": {
        "papermill": {
          "duration": 0.063594,
          "end_time": "2022-11-14T13:42:18.578509",
          "exception": false,
          "start_time": "2022-11-14T13:42:18.514915",
          "status": "completed"
        },
        "tags": [],
        "id": "ZfsMz_6YZW3q"
      }
    },
    {
      "cell_type": "code",
      "source": [
        "sens_const_values = []\n",
        "for feature in list(sensor_list):\n",
        "    try:\n",
        "        if df_train[feature].min()==df_train[feature].max():\n",
        "            sens_const_values.append(feature)\n",
        "    except:\n",
        "        pass\n",
        "\n",
        "print(sens_const_values)\n",
        "df_train.drop(sens_const_values,axis=1,inplace=True)\n",
        "df_test.drop(sens_const_values,axis=1,inplace=True)"
      ],
      "metadata": {
        "papermill": {
          "duration": 0.063594,
          "end_time": "2022-11-14T13:42:18.578509",
          "exception": false,
          "start_time": "2022-11-14T13:42:18.514915",
          "status": "completed"
        },
        "tags": [],
        "execution": {
          "iopub.status.busy": "2022-12-02T18:59:22.0834Z",
          "iopub.execute_input": "2022-12-02T18:59:22.084555Z",
          "iopub.status.idle": "2022-12-02T18:59:22.104159Z",
          "shell.execute_reply.started": "2022-12-02T18:59:22.084508Z",
          "shell.execute_reply": "2022-12-02T18:59:22.10285Z"
        },
        "trusted": true,
        "id": "qQy-haCYZW3q"
      },
      "outputs": [],
      "execution_count": null
    },
    {
      "cell_type": "markdown",
      "source": [
        "Drop one of the highly correlated features and keep the other. The threshold for correlation is set at 0.95"
      ],
      "metadata": {
        "papermill": {
          "duration": 0.063594,
          "end_time": "2022-11-14T13:42:18.578509",
          "exception": false,
          "start_time": "2022-11-14T13:42:18.514915",
          "status": "completed"
        },
        "tags": [],
        "id": "stgfbm46ZW3q"
      }
    },
    {
      "cell_type": "code",
      "source": [
        "# corr_features = ['sensor_9']\n",
        "\n",
        "cor_matrix = df_train[sensor_list].corr().abs()\n",
        "upper_tri = cor_matrix.where(np.triu(np.ones(cor_matrix.shape),k=1).astype(np.bool))\n",
        "corr_features = [column for column in upper_tri.columns if any(upper_tri[column] > 0.95)]\n",
        "print(corr_features)\n",
        "df_train.drop(corr_features,axis=1,inplace=True)\n",
        "df_test.drop(corr_features,axis=1,inplace=True)"
      ],
      "metadata": {
        "papermill": {
          "duration": 0.063594,
          "end_time": "2022-11-14T13:42:18.578509",
          "exception": false,
          "start_time": "2022-11-14T13:42:18.514915",
          "status": "completed"
        },
        "tags": [],
        "execution": {
          "iopub.status.busy": "2022-12-02T18:59:22.106228Z",
          "iopub.execute_input": "2022-12-02T18:59:22.10688Z",
          "iopub.status.idle": "2022-12-02T18:59:22.123266Z",
          "shell.execute_reply.started": "2022-12-02T18:59:22.106844Z",
          "shell.execute_reply": "2022-12-02T18:59:22.121631Z"
        },
        "trusted": true,
        "id": "rMk3nQH4ZW3q"
      },
      "outputs": [],
      "execution_count": null
    },
    {
      "cell_type": "markdown",
      "source": [
        "The remaining features"
      ],
      "metadata": {
        "execution": {
          "iopub.execute_input": "2022-11-10T10:14:36.830029Z",
          "iopub.status.busy": "2022-11-10T10:14:36.8297Z",
          "iopub.status.idle": "2022-11-10T10:14:36.842046Z",
          "shell.execute_reply": "2022-11-10T10:14:36.84081Z",
          "shell.execute_reply.started": "2022-11-10T10:14:36.829999Z"
        },
        "papermill": {
          "duration": 0.110119,
          "end_time": "2022-11-14T13:42:51.054784",
          "exception": false,
          "start_time": "2022-11-14T13:42:50.944665",
          "status": "completed"
        },
        "tags": [],
        "id": "Vhn1Ir3QZW3q"
      }
    },
    {
      "cell_type": "code",
      "source": [
        "list(df_train)"
      ],
      "metadata": {
        "papermill": {
          "duration": 0.119964,
          "end_time": "2022-11-14T13:42:51.283867",
          "exception": false,
          "start_time": "2022-11-14T13:42:51.163903",
          "status": "completed"
        },
        "tags": [],
        "execution": {
          "iopub.status.busy": "2022-12-02T18:59:22.124698Z",
          "iopub.execute_input": "2022-12-02T18:59:22.125284Z",
          "iopub.status.idle": "2022-12-02T18:59:22.132493Z",
          "shell.execute_reply.started": "2022-12-02T18:59:22.125246Z",
          "shell.execute_reply": "2022-12-02T18:59:22.131217Z"
        },
        "trusted": true,
        "id": "PpNA8rbvZW3q"
      },
      "outputs": [],
      "execution_count": null
    },
    {
      "cell_type": "code",
      "source": [
        "df_train.head()"
      ],
      "metadata": {
        "papermill": {
          "duration": 0.167955,
          "end_time": "2022-11-14T13:43:19.50954",
          "exception": false,
          "start_time": "2022-11-14T13:43:19.341585",
          "status": "completed"
        },
        "tags": [],
        "execution": {
          "iopub.status.busy": "2022-12-02T18:59:22.133919Z",
          "iopub.execute_input": "2022-12-02T18:59:22.134747Z",
          "iopub.status.idle": "2022-12-02T18:59:22.155058Z",
          "shell.execute_reply.started": "2022-12-02T18:59:22.134714Z",
          "shell.execute_reply": "2022-12-02T18:59:22.153722Z"
        },
        "trusted": true,
        "id": "819vr5gVZW3q"
      },
      "outputs": [],
      "execution_count": null
    },
    {
      "cell_type": "code",
      "source": [
        "features = list(df_train.columns)"
      ],
      "metadata": {
        "papermill": {
          "duration": 0.155502,
          "end_time": "2022-11-14T13:43:20.110776",
          "exception": false,
          "start_time": "2022-11-14T13:43:19.955274",
          "status": "completed"
        },
        "tags": [],
        "execution": {
          "iopub.status.busy": "2022-12-02T18:59:22.156868Z",
          "iopub.execute_input": "2022-12-02T18:59:22.157313Z",
          "iopub.status.idle": "2022-12-02T18:59:22.16753Z",
          "shell.execute_reply.started": "2022-12-02T18:59:22.157267Z",
          "shell.execute_reply": "2022-12-02T18:59:22.166276Z"
        },
        "trusted": true,
        "id": "w4SpXiNdZW3q"
      },
      "outputs": [],
      "execution_count": null
    },
    {
      "cell_type": "code",
      "source": [
        "for feature in features:\n",
        "    print(feature + \" - \" + str(len(df_train[df_train[feature].isna()])))"
      ],
      "metadata": {
        "papermill": {
          "duration": 0.16463,
          "end_time": "2022-11-14T13:43:20.418769",
          "exception": false,
          "start_time": "2022-11-14T13:43:20.254139",
          "status": "completed"
        },
        "tags": [],
        "execution": {
          "iopub.status.busy": "2022-12-02T18:59:22.169125Z",
          "iopub.execute_input": "2022-12-02T18:59:22.169507Z",
          "iopub.status.idle": "2022-12-02T18:59:22.184954Z",
          "shell.execute_reply.started": "2022-12-02T18:59:22.16947Z",
          "shell.execute_reply": "2022-12-02T18:59:22.183753Z"
        },
        "trusted": true,
        "id": "t6unPEEHZW3r"
      },
      "outputs": [],
      "execution_count": null
    },
    {
      "cell_type": "markdown",
      "source": [
        "The charts below shows what the data looks like. It is a bit noisy between charging and discharging, but it turns out that this information is important, i.e. you will not get better results by smoothing out the data."
      ],
      "metadata": {
        "id": "t21boM6nZW3r"
      }
    },
    {
      "cell_type": "code",
      "source": [
        "plt.style.use('seaborn-white')\n",
        "plt.rcParams['figure.figsize']=8,25\n",
        "plt.rcParams['font.family'] = 'sans-serif'\n",
        "plt.rcParams['font.size'] = 8\n",
        "plt.rcParams['lines.linewidth'] = 0.5\n",
        "plot_items = list(df_train.columns)[1:-2]\n",
        "fig,ax = plt.subplots(len(plot_items),sharex=True)\n",
        "ax[0].invert_xaxis()\n",
        "\n",
        "batteries = list(df_train['Battery ID'].unique())\n",
        "batteries_test = list(df_test['Battery ID'].unique())\n",
        "\n",
        "for battery in batteries:\n",
        "    for i,item in enumerate(plot_items):\n",
        "        f = sns.lineplot(data=df_train[df_train['Battery ID']==battery],x='RUL',y=item,color='steelblue',ax=ax[i],\n",
        "                        )"
      ],
      "metadata": {
        "papermill": {
          "duration": 0.489686,
          "end_time": "2022-11-14T13:53:34.710373",
          "exception": false,
          "start_time": "2022-11-14T13:53:34.220687",
          "status": "completed"
        },
        "tags": [],
        "execution": {
          "iopub.status.busy": "2022-12-02T18:59:22.187009Z",
          "iopub.execute_input": "2022-12-02T18:59:22.187452Z",
          "iopub.status.idle": "2022-12-02T18:59:25.972526Z",
          "shell.execute_reply.started": "2022-12-02T18:59:22.187407Z",
          "shell.execute_reply": "2022-12-02T18:59:25.971205Z"
        },
        "trusted": true,
        "id": "0Y-79_AUZW3r"
      },
      "outputs": [],
      "execution_count": null
    },
    {
      "cell_type": "markdown",
      "source": [
        "<a id='3'></a>\n",
        "# <p style=\"padding: 8px;color:white; display:fill;background-color:#555555; border-radius:5px; font-size:100%\"> <b>Pre-processing and Feature Selection</b>"
      ],
      "metadata": {
        "papermill": {
          "duration": 0.497483,
          "end_time": "2022-11-14T13:53:35.696077",
          "exception": false,
          "start_time": "2022-11-14T13:53:35.198594",
          "status": "completed"
        },
        "tags": [],
        "id": "wufRUQw7ZW3r"
      }
    },
    {
      "cell_type": "markdown",
      "source": [
        "Perform a statistical univariate test to determine the best features."
      ],
      "metadata": {
        "execution": {
          "iopub.execute_input": "2022-11-10T10:14:37.00449Z",
          "iopub.status.busy": "2022-11-10T10:14:37.004158Z",
          "iopub.status.idle": "2022-11-10T10:14:37.324602Z",
          "shell.execute_reply": "2022-11-10T10:14:37.323425Z",
          "shell.execute_reply.started": "2022-11-10T10:14:37.004461Z"
        },
        "papermill": {
          "duration": 0.497218,
          "end_time": "2022-11-14T13:53:39.772397",
          "exception": false,
          "start_time": "2022-11-14T13:53:39.275179",
          "status": "completed"
        },
        "tags": [],
        "id": "_IfSwaKbZW3r"
      }
    },
    {
      "cell_type": "code",
      "source": [
        "# awesome bit of code from https://www.kaggle.com/code/adibouayjan/house-price-step-by-step-modeling\n",
        "\n",
        "Selected_Features = []\n",
        "import statsmodels.api as sm\n",
        "\n",
        "def backward_regression(X, y, initial_list=[], threshold_out=0.05, verbose=True):\n",
        "    \"\"\"To select feature with Backward Stepwise Regression\n",
        "\n",
        "    Args:\n",
        "        X -- features values\n",
        "        y -- target variable\n",
        "        initial_list -- features header\n",
        "        threshold_out -- pvalue threshold of features to drop\n",
        "        verbose -- true to produce lots of logging output\n",
        "\n",
        "    Returns:\n",
        "        list of selected features for modeling\n",
        "    \"\"\"\n",
        "    included = list(X.columns)\n",
        "    while True:\n",
        "        changed = False\n",
        "        model = sm.OLS(y, sm.add_constant(pd.DataFrame(X[included]))).fit()\n",
        "        # use all coefs except intercept\n",
        "        pvalues = model.pvalues.iloc[1:]\n",
        "        worst_pval = pvalues.max()  # null if pvalues is empty\n",
        "        if worst_pval > threshold_out:\n",
        "            changed = True\n",
        "            worst_feature = pvalues.idxmax()\n",
        "            included.remove(worst_feature)\n",
        "            if verbose:\n",
        "                print(f\"worst_feature : {worst_feature}, {worst_pval} \")\n",
        "        if not changed:\n",
        "            break\n",
        "    Selected_Features.append(included)\n",
        "    print(f\"\\nSelected Features:\\n{Selected_Features[0]}\")\n",
        "\n",
        "\n",
        "# Application of the backward regression function on our training data\n",
        "X = df_train.iloc[:,1:-2]\n",
        "y = df_train.iloc[:,-1]\n",
        "backward_regression(X, y)"
      ],
      "metadata": {
        "papermill": {
          "duration": 1.669805,
          "end_time": "2022-11-14T13:53:43.094999",
          "exception": false,
          "start_time": "2022-11-14T13:53:41.425194",
          "status": "completed"
        },
        "tags": [],
        "execution": {
          "iopub.status.busy": "2022-12-02T18:59:25.974538Z",
          "iopub.execute_input": "2022-12-02T18:59:25.975088Z",
          "iopub.status.idle": "2022-12-02T18:59:26.035723Z",
          "shell.execute_reply.started": "2022-12-02T18:59:25.975028Z",
          "shell.execute_reply": "2022-12-02T18:59:26.03445Z"
        },
        "trusted": true,
        "id": "QmIHVCH_ZW3r"
      },
      "outputs": [],
      "execution_count": null
    },
    {
      "cell_type": "markdown",
      "source": [
        "There are only two features required to predict the RUL. Quite interesting."
      ],
      "metadata": {
        "id": "VBERc4q9ZW3r"
      }
    },
    {
      "cell_type": "code",
      "source": [
        "feature_names = Selected_Features[0]"
      ],
      "metadata": {
        "papermill": {
          "duration": 0.529108,
          "end_time": "2022-11-14T13:53:45.247556",
          "exception": false,
          "start_time": "2022-11-14T13:53:44.718448",
          "status": "completed"
        },
        "tags": [],
        "execution": {
          "iopub.status.busy": "2022-12-02T18:59:26.037671Z",
          "iopub.execute_input": "2022-12-02T18:59:26.038467Z",
          "iopub.status.idle": "2022-12-02T18:59:26.044439Z",
          "shell.execute_reply.started": "2022-12-02T18:59:26.038416Z",
          "shell.execute_reply": "2022-12-02T18:59:26.043Z"
        },
        "trusted": true,
        "id": "RTaxytV1ZW3r"
      },
      "outputs": [],
      "execution_count": null
    },
    {
      "cell_type": "markdown",
      "source": [
        "<a id='4'></a>\n",
        "# <p style=\"padding: 8px;color:white; display:fill;background-color:#555555; border-radius:5px; font-size:100%\"> <b>Modelling and Evaluation</b>"
      ],
      "metadata": {
        "papermill": {
          "duration": 0.509079,
          "end_time": "2022-11-14T13:53:47.296904",
          "exception": false,
          "start_time": "2022-11-14T13:53:46.787825",
          "status": "completed"
        },
        "tags": [],
        "id": "vyLwwJzJZW3r"
      }
    },
    {
      "cell_type": "code",
      "source": [
        "import time\n",
        "model_performance = pd.DataFrame(columns=['r-Squared','RMSE','total time'])\n",
        "\n",
        "from sklearn.model_selection import train_test_split\n",
        "from sklearn.metrics import mean_squared_error\n",
        "from sklearn.metrics import make_scorer, accuracy_score\n",
        "\n",
        "import sklearn\n",
        "from sklearn.metrics import mean_squared_error, r2_score\n",
        "\n",
        "model_performance = pd.DataFrame(columns=['R2','RMSE', 'time to train','time to predict','total time'])\n",
        "\n",
        "\n",
        "def R_squared(y_true, y_pred):\n",
        "    SS_res =  K.sum(K.square(y_true - y_pred))\n",
        "    SS_tot = K.sum(K.square(y_true - K.mean(y_true)))\n",
        "    return 1 - SS_res/(SS_tot + K.epsilon())"
      ],
      "metadata": {
        "papermill": {
          "duration": 0.543241,
          "end_time": "2022-11-14T13:53:46.297867",
          "exception": false,
          "start_time": "2022-11-14T13:53:45.754626",
          "status": "completed"
        },
        "tags": [],
        "execution": {
          "iopub.status.busy": "2022-12-02T18:59:26.050932Z",
          "iopub.execute_input": "2022-12-02T18:59:26.051792Z",
          "iopub.status.idle": "2022-12-02T18:59:26.068383Z",
          "shell.execute_reply.started": "2022-12-02T18:59:26.051738Z",
          "shell.execute_reply": "2022-12-02T18:59:26.066902Z"
        },
        "trusted": true,
        "id": "0kuknWn4ZW3r"
      },
      "outputs": [],
      "execution_count": null
    },
    {
      "cell_type": "code",
      "source": [
        "X_train = df_train[feature_names]\n",
        "y_train = df_train['RUL']\n",
        "\n",
        "X_test = df_test[feature_names]\n",
        "y_test = df_test['RUL']\n"
      ],
      "metadata": {
        "papermill": {
          "duration": 0.543241,
          "end_time": "2022-11-14T13:53:46.297867",
          "exception": false,
          "start_time": "2022-11-14T13:53:45.754626",
          "status": "completed"
        },
        "tags": [],
        "execution": {
          "iopub.status.busy": "2022-12-02T18:59:26.070465Z",
          "iopub.execute_input": "2022-12-02T18:59:26.07145Z",
          "iopub.status.idle": "2022-12-02T18:59:26.083481Z",
          "shell.execute_reply.started": "2022-12-02T18:59:26.071393Z",
          "shell.execute_reply": "2022-12-02T18:59:26.081591Z"
        },
        "trusted": true,
        "id": "EJ-pzQ9bZW3r"
      },
      "outputs": [],
      "execution_count": null
    },
    {
      "cell_type": "code",
      "source": [
        "from sklearn.preprocessing import MinMaxScaler, StandardScaler\n",
        "sc = MinMaxScaler()\n",
        "# sc = StandardScaler()\n",
        "X_train = sc.fit_transform(X_train)\n",
        "X_test = sc.transform(X_test)"
      ],
      "metadata": {
        "papermill": {
          "duration": 0.543241,
          "end_time": "2022-11-14T13:53:46.297867",
          "exception": false,
          "start_time": "2022-11-14T13:53:45.754626",
          "status": "completed"
        },
        "tags": [],
        "execution": {
          "iopub.status.busy": "2022-12-02T18:59:26.086268Z",
          "iopub.execute_input": "2022-12-02T18:59:26.087568Z",
          "iopub.status.idle": "2022-12-02T18:59:26.104741Z",
          "shell.execute_reply.started": "2022-12-02T18:59:26.087511Z",
          "shell.execute_reply": "2022-12-02T18:59:26.103048Z"
        },
        "trusted": true,
        "id": "n7oMVwn3ZW3y"
      },
      "outputs": [],
      "execution_count": null
    },
    {
      "cell_type": "code",
      "source": [
        "from sklearn.metrics import mean_absolute_error\n",
        "from sklearn.metrics import r2_score\n",
        "from sklearn.metrics import mean_squared_error"
      ],
      "metadata": {
        "papermill": {
          "duration": 0.507967,
          "end_time": "2022-11-14T13:53:48.317432",
          "exception": false,
          "start_time": "2022-11-14T13:53:47.809465",
          "status": "completed"
        },
        "tags": [],
        "execution": {
          "iopub.status.busy": "2022-12-02T18:59:26.10705Z",
          "iopub.execute_input": "2022-12-02T18:59:26.108049Z",
          "iopub.status.idle": "2022-12-02T18:59:26.114646Z",
          "shell.execute_reply.started": "2022-12-02T18:59:26.107969Z",
          "shell.execute_reply": "2022-12-02T18:59:26.113286Z"
        },
        "trusted": true,
        "id": "sMqJUT4qZW3y"
      },
      "outputs": [],
      "execution_count": null
    },
    {
      "cell_type": "markdown",
      "source": [
        "<a id='4_1'></a>\n",
        "## <p style=\"padding: 8px;color:white; display:fill;background-color:#aaaaaa; border-radius:5px; font-size:100%\"> <b>kNN</b>"
      ],
      "metadata": {
        "papermill": {
          "duration": 0.537983,
          "end_time": "2022-11-14T13:53:54.736841",
          "exception": false,
          "start_time": "2022-11-14T13:53:54.198858",
          "status": "completed"
        },
        "tags": [],
        "id": "YyAdeBSEZW3y"
      }
    },
    {
      "cell_type": "code",
      "source": [
        "%%time\n",
        "from sklearn.neighbors import KNeighborsRegressor\n",
        "start = time.time()\n",
        "model = KNeighborsRegressor(n_neighbors=3).fit(X_train,y_train)\n",
        "end_train = time.time()\n",
        "y_predictions = model.predict(X_test) # These are the predictions from the test data.\n",
        "end_predict = time.time()\n",
        "\n",
        "\n",
        "\n",
        "model_performance.loc['kNN'] = [model.score(X_test,y_test),\n",
        "                                   mean_squared_error(y_test,y_predictions,squared=False),\n",
        "                                   end_train-start,\n",
        "                                   end_predict-end_train,\n",
        "                                   end_predict-start]\n",
        "\n",
        "print('R-squared error: '+ \"{:.2%}\".format(model.score(X_test,y_test)))\n",
        "print('Root Mean Squared Error: '+ \"{:.2f}\".format(mean_squared_error(y_test,y_predictions,squared=False)))"
      ],
      "metadata": {
        "papermill": {
          "duration": 0.635204,
          "end_time": "2022-11-14T13:53:55.891354",
          "exception": false,
          "start_time": "2022-11-14T13:53:55.25615",
          "status": "completed"
        },
        "tags": [],
        "execution": {
          "iopub.status.busy": "2022-12-02T18:59:26.11719Z",
          "iopub.execute_input": "2022-12-02T18:59:26.1181Z",
          "iopub.status.idle": "2022-12-02T18:59:26.188081Z",
          "shell.execute_reply.started": "2022-12-02T18:59:26.118048Z",
          "shell.execute_reply": "2022-12-02T18:59:26.186867Z"
        },
        "trusted": true,
        "id": "z31ZuU8CZW3y"
      },
      "outputs": [],
      "execution_count": null
    },
    {
      "cell_type": "code",
      "source": [
        "plt.style.use('seaborn-white')\n",
        "plt.rcParams['figure.figsize']=5,5\n",
        "plt.rcParams['font.family'] = 'Calibri'\n",
        "plt.rcParams['lines.linewidth'] = 3\n",
        "plt.rcParams['axes.labelsize']=20\n",
        "plt.rcParams['xtick.labelsize']=16\n",
        "plt.rcParams['ytick.labelsize']=16\n",
        "plt.rcParams['legend.fontsize']=16\n",
        "\n",
        "fig,ax = plt.subplots()\n",
        "plt.title('Actual vs Predicted')\n",
        "plt.xlabel('Actual')\n",
        "plt.ylabel('Predicted')\n",
        "g = sns.scatterplot(x=y_test,\n",
        "                y=y_predictions,\n",
        "                s=20,\n",
        "                alpha=0.6,\n",
        "                linewidth=1,\n",
        "                edgecolor='black',\n",
        "                ax=ax)\n",
        "f = sns.lineplot(x=[min(y_test),max(y_test)],\n",
        "             y=[min(y_test),max(y_test)],\n",
        "             linewidth=4,\n",
        "             color='gray',\n",
        "             ax=ax)\n",
        "\n",
        "plt.annotate(text=('R-squared error: '+ \"{:.2%}\".format(model.score(X_test,y_test)) +'\\n' +\n",
        "                  'Root Mean Squared Error: '+ \"{:.2f}\".format(mean_squared_error(y_test,y_predictions,squared=False))),\n",
        "             xy=(0,800),\n",
        "             size='medium')\n",
        "\n",
        "xlabels = ['{:,.0f}'.format(x) for x in g.get_xticks()]\n",
        "g.set_xticklabels(xlabels)\n",
        "ylabels = ['{:,.0f}'.format(x) for x in g.get_yticks()]\n",
        "g.set_yticklabels(ylabels)\n",
        "sns.despine()"
      ],
      "metadata": {
        "papermill": {
          "duration": 0.556647,
          "end_time": "2022-11-14T13:53:56.941529",
          "exception": false,
          "start_time": "2022-11-14T13:53:56.384882",
          "status": "completed"
        },
        "tags": [],
        "execution": {
          "iopub.status.busy": "2022-12-02T18:59:26.189645Z",
          "iopub.execute_input": "2022-12-02T18:59:26.190027Z",
          "iopub.status.idle": "2022-12-02T18:59:26.665647Z",
          "shell.execute_reply.started": "2022-12-02T18:59:26.189972Z",
          "shell.execute_reply": "2022-12-02T18:59:26.664713Z"
        },
        "trusted": true,
        "id": "dey2sDAdZW3y"
      },
      "outputs": [],
      "execution_count": null
    },
    {
      "cell_type": "markdown",
      "source": [
        "<a id='4_2'></a>\n",
        "## <p style=\"padding: 8px;color:white; display:fill;background-color:#aaaaaa; border-radius:5px; font-size:100%\"> <b>SVM</b>"
      ],
      "metadata": {
        "papermill": {
          "duration": 0.503968,
          "end_time": "2022-11-14T13:54:00.578472",
          "exception": false,
          "start_time": "2022-11-14T13:54:00.074504",
          "status": "completed"
        },
        "tags": [],
        "id": "moP-5kI-ZW3z"
      }
    },
    {
      "cell_type": "code",
      "source": [
        "%%time\n",
        "from sklearn.svm import SVR\n",
        "start = time.time()\n",
        "model = SVR(kernel=\"rbf\", C=10000, gamma=0.5, epsilon=0.001).fit(X_train,y_train)\n",
        "end_train = time.time()\n",
        "y_predictions = model.predict(X_test) # These are the predictions from the test data.\n",
        "end_predict = time.time()\n",
        "\n",
        "model_performance.loc['SVM'] = [model.score(X_test,y_test),\n",
        "                                   mean_squared_error(y_test,y_predictions,squared=False),\n",
        "                                   end_train-start,\n",
        "                                   end_predict-end_train,\n",
        "                                   end_predict-start]\n",
        "\n",
        "print('R-squared error: '+ \"{:.2%}\".format(model.score(X_test,y_test)))\n",
        "print('Root Mean Squared Error: '+ \"{:.2f}\".format(mean_squared_error(y_test,y_predictions,squared=False)))"
      ],
      "metadata": {
        "papermill": {
          "duration": 0.633526,
          "end_time": "2022-11-14T13:54:01.700348",
          "exception": false,
          "start_time": "2022-11-14T13:54:01.066822",
          "status": "completed"
        },
        "tags": [],
        "execution": {
          "iopub.status.busy": "2022-12-02T18:59:26.667087Z",
          "iopub.execute_input": "2022-12-02T18:59:26.667613Z",
          "iopub.status.idle": "2022-12-02T18:59:39.46537Z",
          "shell.execute_reply.started": "2022-12-02T18:59:26.667581Z",
          "shell.execute_reply": "2022-12-02T18:59:39.464027Z"
        },
        "trusted": true,
        "id": "m1qkpSHkZW3z"
      },
      "outputs": [],
      "execution_count": null
    },
    {
      "cell_type": "code",
      "source": [
        "plt.style.use('seaborn-white')\n",
        "plt.rcParams['figure.figsize']=5,5\n",
        "plt.rcParams['font.family'] = 'Calibri'\n",
        "plt.rcParams['lines.linewidth'] = 3\n",
        "plt.rcParams['axes.labelsize']=20\n",
        "plt.rcParams['xtick.labelsize']=16\n",
        "plt.rcParams['ytick.labelsize']=16\n",
        "plt.rcParams['legend.fontsize']=16\n",
        "\n",
        "fig,ax = plt.subplots()\n",
        "plt.title('Actual vs Predicted')\n",
        "plt.xlabel('Actual')\n",
        "plt.ylabel('Predicted')\n",
        "g = sns.scatterplot(x=y_test,\n",
        "                y=y_predictions,\n",
        "                s=20,\n",
        "                alpha=0.6,\n",
        "                linewidth=1,\n",
        "                edgecolor='black',\n",
        "                ax=ax)\n",
        "f = sns.lineplot(x=[min(y_test),max(y_test)],\n",
        "             y=[min(y_test),max(y_test)],\n",
        "             linewidth=4,\n",
        "             color='gray',\n",
        "             ax=ax)\n",
        "\n",
        "plt.annotate(text=('R-squared error: '+ \"{:.2%}\".format(model.score(X_test,y_test)) +'\\n' +\n",
        "                  'Root Mean Squared Error: '+ \"{:.2f}\".format(mean_squared_error(y_test,y_predictions,squared=False))),\n",
        "             xy=(0,800),\n",
        "             size='medium')\n",
        "\n",
        "xlabels = ['{:,.0f}'.format(x) for x in g.get_xticks()]\n",
        "g.set_xticklabels(xlabels)\n",
        "ylabels = ['{:,.0f}'.format(x) for x in g.get_yticks()]\n",
        "g.set_yticklabels(ylabels)\n",
        "sns.despine()"
      ],
      "metadata": {
        "papermill": {
          "duration": 0.524089,
          "end_time": "2022-11-14T13:54:02.729376",
          "exception": false,
          "start_time": "2022-11-14T13:54:02.205287",
          "status": "completed"
        },
        "tags": [],
        "execution": {
          "iopub.status.busy": "2022-12-02T18:59:39.467274Z",
          "iopub.execute_input": "2022-12-02T18:59:39.467732Z",
          "iopub.status.idle": "2022-12-02T18:59:42.535265Z",
          "shell.execute_reply.started": "2022-12-02T18:59:39.467686Z",
          "shell.execute_reply": "2022-12-02T18:59:42.533777Z"
        },
        "trusted": true,
        "id": "bJ__HiAhZW3z"
      },
      "outputs": [],
      "execution_count": null
    },
    {
      "cell_type": "markdown",
      "source": [
        "<a id='4_3'></a>\n",
        "## <p style=\"padding: 8px;color:white; display:fill;background-color:#aaaaaa; border-radius:5px; font-size:100%\"> <b>Random Forest</b>"
      ],
      "metadata": {
        "papermill": {
          "duration": 0.496919,
          "end_time": "2022-11-14T13:54:10.46353",
          "exception": false,
          "start_time": "2022-11-14T13:54:09.966611",
          "status": "completed"
        },
        "tags": [],
        "id": "2mqUmJjnZW3z"
      }
    },
    {
      "cell_type": "code",
      "source": [
        "%%time\n",
        "from sklearn.ensemble import RandomForestRegressor\n",
        "start = time.time()\n",
        "model = RandomForestRegressor(n_jobs=-1,\n",
        "                              n_estimators=100,\n",
        "                              min_samples_leaf=1,\n",
        "                              max_features='sqrt',\n",
        "                              # min_samples_split=2,\n",
        "                              bootstrap = True,\n",
        "                              criterion='mse',\n",
        "                             ).fit(X_train,y_train)\n",
        "end_train = time.time()\n",
        "y_predictions = model.predict(X_test) # These are the predictions from the test data.\n",
        "end_predict = time.time()\n",
        "\n",
        "model_performance.loc['Random Forest'] = [model.score(X_test,y_test),\n",
        "                                   mean_squared_error(y_test,y_predictions,squared=False),\n",
        "                                   end_train-start,\n",
        "                                   end_predict-end_train,\n",
        "                                   end_predict-start]\n",
        "\n",
        "print('R-squared error: '+ \"{:.2%}\".format(model.score(X_test,y_test)))\n",
        "print('Root Mean Squared Error: '+ \"{:.2f}\".format(mean_squared_error(y_test,y_predictions,squared=False)))"
      ],
      "metadata": {
        "papermill": {
          "duration": 1.574671,
          "end_time": "2022-11-14T13:54:12.520016",
          "exception": false,
          "start_time": "2022-11-14T13:54:10.945345",
          "status": "completed"
        },
        "tags": [],
        "execution": {
          "iopub.status.busy": "2022-12-02T18:59:42.536846Z",
          "iopub.execute_input": "2022-12-02T18:59:42.537306Z",
          "iopub.status.idle": "2022-12-02T18:59:43.415394Z",
          "shell.execute_reply.started": "2022-12-02T18:59:42.537269Z",
          "shell.execute_reply": "2022-12-02T18:59:43.414012Z"
        },
        "trusted": true,
        "id": "KcM56xoJZW3z"
      },
      "outputs": [],
      "execution_count": null
    },
    {
      "cell_type": "code",
      "source": [
        "plt.style.use('seaborn-white')\n",
        "plt.rcParams['figure.figsize']=5,5\n",
        "\n",
        "fig,ax = plt.subplots()\n",
        "plt.title('Actual vs Predicted')\n",
        "plt.xlabel('Actual')\n",
        "plt.ylabel('Predicted')\n",
        "g = sns.scatterplot(x=y_test,\n",
        "                y=y_predictions,\n",
        "                s=20,\n",
        "                alpha=0.6,\n",
        "                linewidth=1,\n",
        "                edgecolor='black',\n",
        "                ax=ax)\n",
        "f = sns.lineplot(x=[min(y_test),max(y_test)],\n",
        "             y=[min(y_test),max(y_test)],\n",
        "             linewidth=4,\n",
        "             color='gray',\n",
        "             ax=ax)\n",
        "\n",
        "plt.annotate(text=('R-squared error: '+ \"{:.2%}\".format(model.score(X_test,y_test)) +'\\n' +\n",
        "                  'Root Mean Squared Error: '+ \"{:.2f}\".format(mean_squared_error(y_test,y_predictions,squared=False))),\n",
        "             xy=(0,800),\n",
        "             size='medium')\n",
        "\n",
        "xlabels = ['{:,.0f}'.format(x) for x in g.get_xticks()]\n",
        "g.set_xticklabels(xlabels)\n",
        "ylabels = ['{:,.0f}'.format(x) for x in g.get_yticks()]\n",
        "g.set_yticklabels(ylabels)\n",
        "sns.despine()"
      ],
      "metadata": {
        "papermill": {
          "duration": 0.522742,
          "end_time": "2022-11-14T13:54:13.583982",
          "exception": false,
          "start_time": "2022-11-14T13:54:13.06124",
          "status": "completed"
        },
        "tags": [],
        "execution": {
          "iopub.status.busy": "2022-12-02T18:59:43.417107Z",
          "iopub.execute_input": "2022-12-02T18:59:43.417604Z",
          "iopub.status.idle": "2022-12-02T18:59:43.943551Z",
          "shell.execute_reply.started": "2022-12-02T18:59:43.417554Z",
          "shell.execute_reply": "2022-12-02T18:59:43.94216Z"
        },
        "trusted": true,
        "id": "8HtRDmN2ZW3z"
      },
      "outputs": [],
      "execution_count": null
    },
    {
      "cell_type": "code",
      "source": [
        "plt.rcParams['figure.figsize']=5,10\n",
        "sns.set_style(\"white\")\n",
        "feat_importances = pd.Series(model.feature_importances_, index=feature_names)\n",
        "feat_importances = feat_importances.groupby(level=0).mean()\n",
        "feat_importances.nlargest(20).plot(kind='barh').invert_yaxis()\n",
        "sns.despine()\n",
        "plt.show()"
      ],
      "metadata": {
        "papermill": {
          "duration": 0.522742,
          "end_time": "2022-11-14T13:54:13.583982",
          "exception": false,
          "start_time": "2022-11-14T13:54:13.06124",
          "status": "completed"
        },
        "tags": [],
        "execution": {
          "iopub.status.busy": "2022-12-02T18:59:43.944963Z",
          "iopub.execute_input": "2022-12-02T18:59:43.945331Z",
          "iopub.status.idle": "2022-12-02T18:59:44.313758Z",
          "shell.execute_reply.started": "2022-12-02T18:59:43.945299Z",
          "shell.execute_reply": "2022-12-02T18:59:44.312796Z"
        },
        "trusted": true,
        "id": "RzxvtGQZZW3z"
      },
      "outputs": [],
      "execution_count": null
    },
    {
      "cell_type": "code",
      "source": [
        "df_test.head()"
      ],
      "metadata": {
        "papermill": {
          "duration": 0.522742,
          "end_time": "2022-11-14T13:54:13.583982",
          "exception": false,
          "start_time": "2022-11-14T13:54:13.06124",
          "status": "completed"
        },
        "tags": [],
        "execution": {
          "iopub.status.busy": "2022-12-02T18:59:44.315284Z",
          "iopub.execute_input": "2022-12-02T18:59:44.315838Z",
          "iopub.status.idle": "2022-12-02T18:59:44.332859Z",
          "shell.execute_reply.started": "2022-12-02T18:59:44.315802Z",
          "shell.execute_reply": "2022-12-02T18:59:44.331263Z"
        },
        "trusted": true,
        "id": "7NN7kmORZW3z"
      },
      "outputs": [],
      "execution_count": null
    },
    {
      "cell_type": "code",
      "source": [
        "df_test['RUL predicted'] = y_predictions"
      ],
      "metadata": {
        "papermill": {
          "duration": 0.522742,
          "end_time": "2022-11-14T13:54:13.583982",
          "exception": false,
          "start_time": "2022-11-14T13:54:13.06124",
          "status": "completed"
        },
        "tags": [],
        "execution": {
          "iopub.status.busy": "2022-12-02T18:59:44.334496Z",
          "iopub.execute_input": "2022-12-02T18:59:44.3352Z",
          "iopub.status.idle": "2022-12-02T18:59:44.341889Z",
          "shell.execute_reply.started": "2022-12-02T18:59:44.335153Z",
          "shell.execute_reply": "2022-12-02T18:59:44.340518Z"
        },
        "trusted": true,
        "id": "PlLrTf2dZW3z"
      },
      "outputs": [],
      "execution_count": null
    },
    {
      "cell_type": "code",
      "source": [
        "batteries = list(df_train['Battery ID'].unique())\n",
        "batteries_test = list(df_test['Battery ID'].unique())\n",
        "\n",
        "plt.style.use('seaborn-white')\n",
        "plt.rcParams['figure.figsize']=8,25\n",
        "plt.rcParams['font.family'] = 'sans-serif'\n",
        "plt.rcParams['font.size'] = 8\n",
        "plt.rcParams['lines.linewidth'] = 1.5\n",
        "fig,ax = plt.subplots(len(batteries_test),sharex=True)\n",
        "\n",
        "for i, battery in enumerate(batteries_test):\n",
        "    f = sns.lineplot(data=df_test[df_test['Battery ID']==battery],\n",
        "                     x='Cycle_Index',\n",
        "                     y='RUL',\n",
        "                     color='dimgray',\n",
        "                     ax=ax[i],\n",
        "                     label='Actual'\n",
        "                    )\n",
        "    g = sns.lineplot(data=df_test[df_test['Battery ID']==battery],\n",
        "                     x='Cycle_Index',\n",
        "                     y='RUL predicted',\n",
        "                     color='steelblue',\n",
        "                     ax=ax[i],\n",
        "                     label='Predicted'\n",
        "                    )\n",
        "    ax[i].legend = True"
      ],
      "metadata": {
        "papermill": {
          "duration": 0.522742,
          "end_time": "2022-11-14T13:54:13.583982",
          "exception": false,
          "start_time": "2022-11-14T13:54:13.06124",
          "status": "completed"
        },
        "tags": [],
        "execution": {
          "iopub.status.busy": "2022-12-02T18:59:44.343393Z",
          "iopub.execute_input": "2022-12-02T18:59:44.343745Z",
          "iopub.status.idle": "2022-12-02T18:59:46.244495Z",
          "shell.execute_reply.started": "2022-12-02T18:59:44.343713Z",
          "shell.execute_reply": "2022-12-02T18:59:46.24317Z"
        },
        "trusted": true,
        "id": "soUkmEF6ZW3z"
      },
      "outputs": [],
      "execution_count": null
    },
    {
      "cell_type": "markdown",
      "source": [
        "<a id='5'></a>\n",
        "# <p style=\"padding: 8px;color:white; display:fill;background-color:#555555; border-radius:5px; font-size:100%\"> <b>Evaluate</b>"
      ],
      "metadata": {
        "papermill": {
          "duration": 0.506546,
          "end_time": "2022-11-14T13:54:52.682703",
          "exception": false,
          "start_time": "2022-11-14T13:54:52.176157",
          "status": "completed"
        },
        "tags": [],
        "id": "nQwu7HadZW3z"
      }
    },
    {
      "cell_type": "code",
      "source": [
        "model_performance.style.background_gradient(cmap='RdYlBu_r').format({'R2': '{:.2%}',\n",
        "                                                                     'RMSE': '{:.2f}',\n",
        "                                                                     'time to train':'{:.3f}',\n",
        "                                                                     'time to predict':'{:.3f}',\n",
        "                                                                     'total time':'{:.3f}',\n",
        "                                                                     })"
      ],
      "metadata": {
        "papermill": {
          "duration": 0.628001,
          "end_time": "2022-11-14T13:54:53.813402",
          "exception": false,
          "start_time": "2022-11-14T13:54:53.185401",
          "status": "completed"
        },
        "tags": [],
        "execution": {
          "iopub.status.busy": "2022-12-02T18:59:46.246299Z",
          "iopub.execute_input": "2022-12-02T18:59:46.246783Z",
          "iopub.status.idle": "2022-12-02T18:59:46.271099Z",
          "shell.execute_reply.started": "2022-12-02T18:59:46.246744Z",
          "shell.execute_reply": "2022-12-02T18:59:46.269507Z"
        },
        "trusted": true,
        "id": "KDjkQyFxZW30"
      },
      "outputs": [],
      "execution_count": null
    },
    {
      "cell_type": "markdown",
      "source": [
        "<a id='6'></a>\n",
        "# <p style=\"padding: 8px;color:white; display:fill;background-color:#555555; border-radius:5px; font-size:100%\"> <b>Conclusion</b>"
      ],
      "metadata": {
        "papermill": {
          "duration": 0.537337,
          "end_time": "2022-11-14T13:54:54.901685",
          "exception": false,
          "start_time": "2022-11-14T13:54:54.364348",
          "status": "completed"
        },
        "tags": [],
        "id": "WBnSOPbKZW30"
      }
    },
    {
      "cell_type": "markdown",
      "source": [
        "Random Forest does quite well to capture the essense of the RUL prediction throughout the life of the battery.\n",
        "\n"
      ],
      "metadata": {
        "papermill": {
          "duration": 0.579681,
          "end_time": "2022-11-14T13:54:57.019215",
          "exception": false,
          "start_time": "2022-11-14T13:54:56.439534",
          "status": "completed"
        },
        "tags": [],
        "id": "6Ri8CukqZW30"
      }
    },
    {
      "cell_type": "code",
      "source": [],
      "metadata": {
        "id": "Ohkc35IVZW30"
      },
      "outputs": [],
      "execution_count": null
    }
  ]
}